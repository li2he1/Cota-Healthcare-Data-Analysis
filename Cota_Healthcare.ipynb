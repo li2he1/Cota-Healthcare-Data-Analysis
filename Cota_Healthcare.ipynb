{
  "nbformat": 4,
  "nbformat_minor": 0,
  "metadata": {
    "colab": {
      "name": "Cota Healthcare.ipynb",
      "provenance": [],
      "collapsed_sections": [],
      "authorship_tag": "ABX9TyMaJljKQE072fFZlVd8wW9a",
      "include_colab_link": true
    },
    "kernelspec": {
      "name": "python3",
      "display_name": "Python 3"
    },
    "language_info": {
      "name": "python"
    }
  },
  "cells": [
    {
      "cell_type": "markdown",
      "metadata": {
        "id": "view-in-github",
        "colab_type": "text"
      },
      "source": [
        "<a href=\"https://colab.research.google.com/github/li2he1/Cota-Healthcare-Data-Analysis/blob/main/Cota_Healthcare.ipynb\" target=\"_parent\"><img src=\"https://colab.research.google.com/assets/colab-badge.svg\" alt=\"Open In Colab\"/></a>"
      ]
    },
    {
      "cell_type": "markdown",
      "metadata": {
        "id": "QAY2jNcy96aj"
      },
      "source": [
        "\n",
        "# Cota Healthcare Data Analysis\n"
      ]
    },
    {
      "cell_type": "markdown",
      "metadata": {
        "id": "vRTIGNJS-nGw"
      },
      "source": [
        "# Part 0: Setup Google Drive Environment"
      ]
    },
    {
      "cell_type": "code",
      "metadata": {
        "id": "gb2OqLrDvSOB"
      },
      "source": [
        "#@title import packages\n",
        "import numpy as np\n",
        "import pandas as pd\n",
        "import matplotlib.pyplot as plt\n",
        "import warnings\n",
        "warnings.filterwarnings('ignore')\n",
        "# will show all the columns\n",
        "pd.set_option('display.max_columns', None)"
      ],
      "execution_count": 432,
      "outputs": []
    },
    {
      "cell_type": "code",
      "metadata": {
        "id": "Txeoi0TK8R9x"
      },
      "source": [
        "#Load CSV files\n",
        "url = 'https://raw.githubusercontent.com/li2he1/Cota-Healthcare-Data-Analysis/main/cancer-datasets_filtered_pancan_clinical.csv'\n",
        "df1 = pd.read_csv(url)\n"
      ],
      "execution_count": 433,
      "outputs": []
    },
    {
      "cell_type": "markdown",
      "metadata": {
        "id": "cPsIr9xr95aa"
      },
      "source": [
        "# Part 1: Data Exploration\n",
        "\n"
      ]
    },
    {
      "cell_type": "code",
      "metadata": {
        "id": "k4a_FFCh-uO7"
      },
      "source": [
        "#df1"
      ],
      "execution_count": 434,
      "outputs": []
    },
    {
      "cell_type": "markdown",
      "metadata": {
        "id": "1Y95iyBbW_z4"
      },
      "source": [
        "1.How many columns are in this dataset?"
      ]
    },
    {
      "cell_type": "code",
      "metadata": {
        "colab": {
          "base_uri": "https://localhost:8080/"
        },
        "id": "1vghHV8vCypM",
        "outputId": "f1289595-2f45-4872-91f6-40345166ce5d"
      },
      "source": [
        "print (\"Num of rows: \" + str(df1.shape[0])) # row count\n",
        "print (\"Num of columns: \" + str(df1.shape[1])) # col count"
      ],
      "execution_count": 435,
      "outputs": [
        {
          "output_type": "stream",
          "text": [
            "Num of rows: 10761\n",
            "Num of columns: 746\n"
          ],
          "name": "stdout"
        }
      ]
    },
    {
      "cell_type": "code",
      "metadata": {
        "id": "EryqEC0PF6O0"
      },
      "source": [
        "#!pip uninstall pandas_profiling\n",
        "#!pip install -U pandas_profiling"
      ],
      "execution_count": 436,
      "outputs": []
    },
    {
      "cell_type": "code",
      "metadata": {
        "id": "66naVa7LEUQv"
      },
      "source": [
        "# import pandas_profiling\n",
        "# pandas_profiling.ProfileReport(df1)"
      ],
      "execution_count": 437,
      "outputs": []
    },
    {
      "cell_type": "markdown",
      "metadata": {
        "id": "_SG5ODMpXD_x"
      },
      "source": [
        "2.Breakdown columns by datatypes with counts"
      ]
    },
    {
      "cell_type": "code",
      "metadata": {
        "colab": {
          "base_uri": "https://localhost:8080/"
        },
        "id": "RCsiMzWeWPIq",
        "outputId": "26ac36c7-0aad-40e1-863d-fce8c2579df3"
      },
      "source": [
        "df1.dtypes.value_counts()"
      ],
      "execution_count": 438,
      "outputs": [
        {
          "output_type": "execute_result",
          "data": {
            "text/plain": [
              "object     500\n",
              "float64    246\n",
              "dtype: int64"
            ]
          },
          "metadata": {
            "tags": []
          },
          "execution_count": 438
        }
      ]
    },
    {
      "cell_type": "markdown",
      "metadata": {
        "id": "bD9pItK_XGwn"
      },
      "source": [
        "3.Breakdown counts by gender, race and ethnicity"
      ]
    },
    {
      "cell_type": "code",
      "metadata": {
        "colab": {
          "base_uri": "https://localhost:8080/"
        },
        "id": "WcXpoE0EXKjw",
        "outputId": "48466895-14fa-401c-8b27-cb07e1e2a5e4"
      },
      "source": [
        "df1.gender.value_counts()"
      ],
      "execution_count": 439,
      "outputs": [
        {
          "output_type": "execute_result",
          "data": {
            "text/plain": [
              "FEMALE    5623\n",
              "MALE      5138\n",
              "Name: gender, dtype: int64"
            ]
          },
          "metadata": {
            "tags": []
          },
          "execution_count": 439
        }
      ]
    },
    {
      "cell_type": "code",
      "metadata": {
        "colab": {
          "base_uri": "https://localhost:8080/"
        },
        "id": "eJ5iZh4uXmth",
        "outputId": "bb747779-1900-4ccb-c547-231b53f34d3d"
      },
      "source": [
        "df1.race.value_counts()"
      ],
      "execution_count": 440,
      "outputs": [
        {
          "output_type": "execute_result",
          "data": {
            "text/plain": [
              "WHITE                                        7862\n",
              "BLACK OR AFRICAN AMERICAN                     902\n",
              "ASIAN                                         670\n",
              "[Not Evaluated]                               153\n",
              "[Unknown]                                     131\n",
              "AMERICAN INDIAN OR ALASKA NATIVE               27\n",
              "NATIVE HAWAIIAN OR OTHER PACIFIC ISLANDER      13\n",
              "Name: race, dtype: int64"
            ]
          },
          "metadata": {
            "tags": []
          },
          "execution_count": 440
        }
      ]
    },
    {
      "cell_type": "code",
      "metadata": {
        "colab": {
          "base_uri": "https://localhost:8080/"
        },
        "id": "4D5BsOkIXrx4",
        "outputId": "3b2a50b6-38f8-479d-a46b-bb9dc3e928cf"
      },
      "source": [
        "df1.ethnicity.value_counts()"
      ],
      "execution_count": 441,
      "outputs": [
        {
          "output_type": "execute_result",
          "data": {
            "text/plain": [
              "NOT HISPANIC OR LATINO    7850\n",
              "[Not Evaluated]            573\n",
              "HISPANIC OR LATINO         366\n",
              "[Unknown]                  186\n",
              "Name: ethnicity, dtype: int64"
            ]
          },
          "metadata": {
            "tags": []
          },
          "execution_count": 441
        }
      ]
    },
    {
      "cell_type": "markdown",
      "metadata": {
        "id": "LV6y_733ZQX8"
      },
      "source": [
        "4.Report of missingness across all columns"
      ]
    },
    {
      "cell_type": "code",
      "metadata": {
        "colab": {
          "base_uri": "https://localhost:8080/"
        },
        "id": "Tu3TYyLOcdQN",
        "outputId": "7a5c479d-b0bc-4be2-aa0c-1e6abea847c9"
      },
      "source": [
        "df1.isnull().any(axis=0) # check if there is a NaN in a column"
      ],
      "execution_count": 442,
      "outputs": [
        {
          "output_type": "execute_result",
          "data": {
            "text/plain": [
              "bcr_patient_uuid                   False\n",
              "bcr_patient_barcode                False\n",
              "acronym                            False\n",
              "gender                             False\n",
              "vital_status                        True\n",
              "                                   ...  \n",
              "fetoprotein_outcome_lower_limit     True\n",
              "inter_norm_ratio_lower_limit        True\n",
              "family_cancer_type_txt              True\n",
              "bilirubin_upper_limit               True\n",
              "days_to_last_known_alive            True\n",
              "Length: 746, dtype: bool"
            ]
          },
          "metadata": {
            "tags": []
          },
          "execution_count": 442
        }
      ]
    },
    {
      "cell_type": "code",
      "metadata": {
        "colab": {
          "base_uri": "https://localhost:8080/"
        },
        "id": "twZd8z07ceuF",
        "outputId": "102543a2-b675-4dc7-f511-f3373d717ecf"
      },
      "source": [
        "df1.notnull().all(axis=0) # check the colums that has no NaN"
      ],
      "execution_count": 443,
      "outputs": [
        {
          "output_type": "execute_result",
          "data": {
            "text/plain": [
              "bcr_patient_uuid                    True\n",
              "bcr_patient_barcode                 True\n",
              "acronym                             True\n",
              "gender                              True\n",
              "vital_status                       False\n",
              "                                   ...  \n",
              "fetoprotein_outcome_lower_limit    False\n",
              "inter_norm_ratio_lower_limit       False\n",
              "family_cancer_type_txt             False\n",
              "bilirubin_upper_limit              False\n",
              "days_to_last_known_alive           False\n",
              "Length: 746, dtype: bool"
            ]
          },
          "metadata": {
            "tags": []
          },
          "execution_count": 443
        }
      ]
    },
    {
      "cell_type": "code",
      "metadata": {
        "colab": {
          "base_uri": "https://localhost:8080/"
        },
        "id": "96Yz-IwWZa_5",
        "outputId": "dc912673-da3f-485f-a91d-5642ef86e285"
      },
      "source": [
        "df1.isnull().sum()"
      ],
      "execution_count": 444,
      "outputs": [
        {
          "output_type": "execute_result",
          "data": {
            "text/plain": [
              "bcr_patient_uuid                       0\n",
              "bcr_patient_barcode                    0\n",
              "acronym                                0\n",
              "gender                                 0\n",
              "vital_status                           4\n",
              "                                   ...  \n",
              "fetoprotein_outcome_lower_limit    10736\n",
              "inter_norm_ratio_lower_limit       10734\n",
              "family_cancer_type_txt             10740\n",
              "bilirubin_upper_limit              10729\n",
              "days_to_last_known_alive           10750\n",
              "Length: 746, dtype: int64"
            ]
          },
          "metadata": {
            "tags": []
          },
          "execution_count": 444
        }
      ]
    },
    {
      "cell_type": "code",
      "metadata": {
        "colab": {
          "base_uri": "https://localhost:8080/"
        },
        "id": "OhrrbWzXZ2rQ",
        "outputId": "9187469d-bccc-4137-c715-f3c998490ab0"
      },
      "source": [
        "df1.isnull().sum()/len(df1)*100"
      ],
      "execution_count": 445,
      "outputs": [
        {
          "output_type": "execute_result",
          "data": {
            "text/plain": [
              "bcr_patient_uuid                    0.000000\n",
              "bcr_patient_barcode                 0.000000\n",
              "acronym                             0.000000\n",
              "gender                              0.000000\n",
              "vital_status                        0.037171\n",
              "                                     ...    \n",
              "fetoprotein_outcome_lower_limit    99.767680\n",
              "inter_norm_ratio_lower_limit       99.749094\n",
              "family_cancer_type_txt             99.804851\n",
              "bilirubin_upper_limit              99.702630\n",
              "days_to_last_known_alive           99.897779\n",
              "Length: 746, dtype: float64"
            ]
          },
          "metadata": {
            "tags": []
          },
          "execution_count": 445
        }
      ]
    },
    {
      "cell_type": "code",
      "metadata": {
        "colab": {
          "base_uri": "https://localhost:8080/"
        },
        "id": "LmQKHxn5bQlY",
        "outputId": "c2932ed9-18b6-436d-c683-5552661838a0"
      },
      "source": [
        "df1.info(verbose=True, null_counts=True)"
      ],
      "execution_count": 446,
      "outputs": [
        {
          "output_type": "stream",
          "text": [
            "<class 'pandas.core.frame.DataFrame'>\n",
            "RangeIndex: 10761 entries, 0 to 10760\n",
            "Data columns (total 746 columns):\n",
            " #   Column                                                                                                            Non-Null Count  Dtype  \n",
            "---  ------                                                                                                            --------------  -----  \n",
            " 0   bcr_patient_uuid                                                                                                  10761 non-null  object \n",
            " 1   bcr_patient_barcode                                                                                               10761 non-null  object \n",
            " 2   acronym                                                                                                           10761 non-null  object \n",
            " 3   gender                                                                                                            10761 non-null  object \n",
            " 4   vital_status                                                                                                      10757 non-null  object \n",
            " 5   days_to_birth                                                                                                     10644 non-null  float64\n",
            " 6   days_to_death                                                                                                     10749 non-null  object \n",
            " 7   days_to_last_followup                                                                                             8922 non-null   object \n",
            " 8   days_to_initial_pathologic_diagnosis                                                                              10638 non-null  float64\n",
            " 9   age_at_initial_pathologic_diagnosis                                                                               10712 non-null  float64\n",
            " 10  icd_10                                                                                                            10760 non-null  object \n",
            " 11  tissue_retrospective_collection_indicator                                                                         9538 non-null   object \n",
            " 12  icd_o_3_histology                                                                                                 10760 non-null  object \n",
            " 13  tissue_prospective_collection_indicator                                                                           9531 non-null   object \n",
            " 14  history_of_neoadjuvant_treatment                                                                                  10759 non-null  object \n",
            " 15  icd_o_3_site                                                                                                      10760 non-null  object \n",
            " 16  tumor_tissue_site                                                                                                 10661 non-null  object \n",
            " 17  new_tumor_event_after_initial_treatment                                                                           8816 non-null   object \n",
            " 18  radiation_therapy                                                                                                 9838 non-null   object \n",
            " 19  race                                                                                                              9758 non-null   object \n",
            " 20  project_code                                                                                                      37 non-null     object \n",
            " 21  prior_dx                                                                                                          9628 non-null   object \n",
            " 22  disease_code                                                                                                      37 non-null     object \n",
            " 23  ethnicity                                                                                                         8975 non-null   object \n",
            " 24  informed_consent_verified                                                                                         10761 non-null  object \n",
            " 25  person_neoplasm_cancer_status                                                                                     10088 non-null  object \n",
            " 26  patient_id                                                                                                        10761 non-null  object \n",
            " 27  year_of_initial_pathologic_diagnosis                                                                              10633 non-null  float64\n",
            " 28  histological_type                                                                                                 10198 non-null  object \n",
            " 29  tissue_source_site                                                                                                10754 non-null  object \n",
            " 30  form_completion_date                                                                                              10635 non-null  object \n",
            " 31  pathologic_T                                                                                                      9069 non-null   object \n",
            " 32  pathologic_M                                                                                                      8787 non-null   object \n",
            " 33  clinical_M                                                                                                        8520 non-null   object \n",
            " 34  pathologic_N                                                                                                      9020 non-null   object \n",
            " 35  system_version                                                                                                    7828 non-null   object \n",
            " 36  pathologic_stage                                                                                                  8698 non-null   object \n",
            " 37  stage_other                                                                                                       0 non-null      float64\n",
            " 38  clinical_stage                                                                                                    8908 non-null   object \n",
            " 39  clinical_T                                                                                                        7590 non-null   object \n",
            " 40  clinical_N                                                                                                        8941 non-null   object \n",
            " 41  extranodal_involvement                                                                                            9156 non-null   object \n",
            " 42  postoperative_rx_tx                                                                                               3060 non-null   object \n",
            " 43  primary_therapy_outcome_success                                                                                   2881 non-null   object \n",
            " 44  lymph_node_examined_count                                                                                         4427 non-null   object \n",
            " 45  primary_lymph_node_presentation_assessment                                                                        4747 non-null   object \n",
            " 46  initial_pathologic_diagnosis_method                                                                               4632 non-null   object \n",
            " 47  number_of_lymphnodes_positive_by_he                                                                               3902 non-null   float64\n",
            " 48  eastern_cancer_oncology_group                                                                                     2306 non-null   object \n",
            " 49  anatomic_neoplasm_subdivision                                                                                     4835 non-null   object \n",
            " 50  residual_tumor                                                                                                    4433 non-null   object \n",
            " 51  histological_type_other                                                                                           2268 non-null   object \n",
            " 52  init_pathology_dx_method_other                                                                                    4048 non-null   object \n",
            " 53  karnofsky_performance_score                                                                                       1888 non-null   object \n",
            " 54  neoplasm_histologic_grade                                                                                         4580 non-null   object \n",
            " 55  height                                                                                                            2695 non-null   float64\n",
            " 56  weight                                                                                                            2767 non-null   float64\n",
            " 57  history_of_radiation_metastatic_site                                                                              0 non-null      float64\n",
            " 58  days_to_patient_progression_free                                                                                  0 non-null      float64\n",
            " 59  days_to_first_response                                                                                            0 non-null      float64\n",
            " 60  days_to_first_partial_response                                                                                    0 non-null      float64\n",
            " 61  days_to_first_complete_response                                                                                   0 non-null      float64\n",
            " 62  days_to_tumor_progression                                                                                         0 non-null      float64\n",
            " 63  er_estimated_duration_response                                                                                    0 non-null      float64\n",
            " 64  er_disease_extent_prior_er_treatment                                                                              0 non-null      float64\n",
            " 65  er_solid_tumor_response_documented_type                                                                           0 non-null      float64\n",
            " 66  er_solid_tumor_response_documented_type_other                                                                     0 non-null      float64\n",
            " 67  er_response_type                                                                                                  0 non-null      float64\n",
            " 68  history_of_radiation_primary_site                                                                                 0 non-null      float64\n",
            " 69  history_prior_surgery_type                                                                                        0 non-null      float64\n",
            " 70  patient_progression_status                                                                                        0 non-null      float64\n",
            " 71  history_prior_surgery_type_other                                                                                  0 non-null      float64\n",
            " 72  history_prior_surgery_indicator                                                                                   0 non-null      float64\n",
            " 73  field                                                                                                             0 non-null      float64\n",
            " 74  molecular_abnormality_results_other                                                                               0 non-null      float64\n",
            " 75  molecular_abnormality_results                                                                                     0 non-null      float64\n",
            " 76  number_of_lymphnodes_positive_by_ihc                                                                              833 non-null    float64\n",
            " 77  tobacco_smoking_history                                                                                           3041 non-null   object \n",
            " 78  number_pack_years_smoked                                                                                          1640 non-null   float64\n",
            " 79  stopped_smoking_year                                                                                              1159 non-null   float64\n",
            " 80  performance_status_scale_timing                                                                                   1863 non-null   object \n",
            " 81  laterality                                                                                                        2667 non-null   object \n",
            " 82  targeted_molecular_therapy                                                                                        1986 non-null   object \n",
            " 83  year_of_tobacco_smoking_onset                                                                                     992 non-null    float64\n",
            " 84  anatomic_neoplasm_subdivision_other                                                                               1184 non-null   object \n",
            " 85  patient_death_reason                                                                                              319 non-null    object \n",
            " 86  tumor_tissue_site_other                                                                                           2287 non-null   object \n",
            " 87  menopause_status                                                                                                  1843 non-null   object \n",
            " 88  age_began_smoking_in_years                                                                                        337 non-null    float64\n",
            " 89  margin_status                                                                                                     1705 non-null   object \n",
            " 90  kras_gene_analysis_performed                                                                                      1235 non-null   object \n",
            " 91  kras_mutation_found                                                                                               138 non-null    object \n",
            " 92  death_cause_text                                                                                                  80 non-null     object \n",
            " 93  lactate_dehydrogenase_result                                                                                      361 non-null    object \n",
            " 94  days_to_sample_procurement                                                                                        0 non-null      float64\n",
            " 95  hbv_test                                                                                                          0 non-null      float64\n",
            " 96  on_haart_therapy_at_cancer_diagnosis                                                                              0 non-null      float64\n",
            " 97  hcv_test                                                                                                          0 non-null      float64\n",
            " 98  prior_aids_conditions                                                                                             0 non-null      float64\n",
            " 99  on_haart_therapy_prior_to_cancer_diagnosis                                                                        0 non-null      float64\n",
            " 100 kshv_hhv8_test                                                                                                    0 non-null      float64\n",
            " 101 days_to_hiv_diagnosis                                                                                             0 non-null      float64\n",
            " 102 hiv_status                                                                                                        0 non-null      float64\n",
            " 103 hiv_rna_load_at_diagnosis                                                                                         0 non-null      float64\n",
            " 104 cdc_hiv_risk_group                                                                                                0 non-null      float64\n",
            " 105 history_of_other_malignancy                                                                                       0 non-null      float64\n",
            " 106 history_immunosuppresive_dx                                                                                       0 non-null      float64\n",
            " 107 nadir_cd4_counts                                                                                                  0 non-null      float64\n",
            " 108 history_relevant_infectious_dx_other                                                                              0 non-null      float64\n",
            " 109 history_relevant_infectious_dx                                                                                    0 non-null      float64\n",
            " 110 cd4_counts_at_diagnosis                                                                                           0 non-null      float64\n",
            " 111 history_immunological_disease_other                                                                               0 non-null      float64\n",
            " 112 hpv_test                                                                                                          0 non-null      float64\n",
            " 113 history_immunosuppressive_dx_other                                                                                0 non-null      float64\n",
            " 114 history_immunological_disease                                                                                     0 non-null      float64\n",
            " 115 lost_follow_up                                                                                                    0 non-null      float64\n",
            " 116 venous_invasion                                                                                                   688 non-null    object \n",
            " 117 lymphatic_invasion                                                                                                768 non-null    object \n",
            " 118 perineural_invasion_present                                                                                       635 non-null    object \n",
            " 119 her2_erbb_method_calculation_method_text                                                                          88 non-null     object \n",
            " 120 her2_immunohistochemistry_level_result                                                                            614 non-null    object \n",
            " 121 breast_carcinoma_immunohistochemistry_pos_cell_score                                                              208 non-null    object \n",
            " 122 distant_metastasis_present_ind2                                                                                   390 non-null    object \n",
            " 123 her2_erbb_pos_finding_fluorescence_in_situ_hybridization_calculation_method_text                                  50 non-null     object \n",
            " 124 breast_carcinoma_immunohistochemistry_progesterone_receptor_pos_finding_scale                                     142 non-null    object \n",
            " 125 breast_carcinoma_primary_surgical_procedure_name                                                                  106 non-null    object \n",
            " 126 er_level_cell_percentage_category                                                                                 468 non-null    object \n",
            " 127 breast_carcinoma_progesterone_receptor_status                                                                     1087 non-null   object \n",
            " 128 breast_carcinoma_surgical_procedure_name                                                                          1035 non-null   object \n",
            " 129 breast_neoplasm_other_surgical_procedure_descriptive_text                                                         1087 non-null   object \n",
            " 130 er_detection_method_text                                                                                          216 non-null    object \n",
            " 131 pos_finding_progesterone_receptor_other_measurement_scale_text                                                    220 non-null    object \n",
            " 132 her2_erbb_pos_finding_cell_percent_category                                                                       208 non-null    object \n",
            " 133 her2_and_centromere_17_positive_finding_other_measurement_scale_text                                              4 non-null      object \n",
            " 134 pos_finding_metastatic_breast_carcinoma_estrogen_receptor_other_measuremenet_scale_text                           1 non-null      object \n",
            " 135 metastatic_breast_carcinoma_progesterone_receptor_level_cell_percent_category                                     4 non-null      object \n",
            " 136 metastatic_breast_carcinoma_pos_finding_progesterone_receptor_other_measure_scale_text                            0 non-null      float64\n",
            " 137 fluorescence_in_situ_hybridization_diagnostic_procedure_chromosome_17_signal_result_range                         106 non-null    object \n",
            " 138 first_recurrent_non_nodal_metastatic_anatomic_site_descriptive_text                                               7 non-null      object \n",
            " 139 first_nonlymph_node_metastasis_anatomic_site                                                                      23 non-null     object \n",
            " 140 immunohistochemistry_positive_cell_score                                                                          214 non-null    object \n",
            " 141 axillary_lymph_node_stage_method_type                                                                             879 non-null    object \n",
            " 142 axillary_lymph_node_stage_other_method_descriptive_text                                                           19 non-null     object \n",
            " 143 metastatic_breast_carcinoma_progesterone_receptor_status                                                          98 non-null     object \n",
            " 144 metastatic_breast_carcinoma_immunohistochemistry_pr_pos_cell_score                                                1 non-null      object \n",
            " 145 metastatic_breast_carcinoma_immunohistochemistry_er_pos_cell_score                                                1 non-null      object \n",
            " 146 metastatic_breast_carcinoma_lab_proc_her2_neu_immunohistochemistry_receptor_status                                100 non-null    object \n",
            " 147 metastatic_breast_carcinoma_her2_neu_chromosone_17_signal_ratio_value                                             2 non-null      float64\n",
            " 148 surgical_procedure_purpose_other_text                                                                             270 non-null    object \n",
            " 149 metastatic_breast_carcinoma_her2_erbb_pos_finding_fluorescence_in_situ_hybridization_calculation_method_text      0 non-null      float64\n",
            " 150 metastatic_breast_carcinoma_her2_erbb_pos_finding_cell_percent_category                                           3 non-null      object \n",
            " 151 breast_cancer_surgery_margin_status                                                                               59 non-null     object \n",
            " 152 metastatic_breast_carcinoma_her2_erbb_method_calculation_method_text                                              0 non-null      float64\n",
            " 153 breast_carcinoma_estrogen_receptor_status                                                                         1087 non-null   object \n",
            " 154 her2_neu_and_centromere_17_copy_number_analysis_input_total_number_count                                          104 non-null    float64\n",
            " 155 pgr_detection_method_text                                                                                         209 non-null    object \n",
            " 156 pos_finding_her2_erbb2_other_measurement_scale_text                                                               13 non-null     object \n",
            " 157 breast_carcinoma_immunohistochemistry_er_pos_finding_scale                                                        147 non-null    object \n",
            " 158 positive_finding_estrogen_receptor_other_measurement_scale_text                                                   241 non-null    object \n",
            " 159 metastatic_breast_carcinoma_erbb2_immunohistochemistry_level_result                                               5 non-null      object \n",
            " 160 metastatic_breast_carcinoma_pos_finding_other_scale_measurement_text                                              0 non-null      float64\n",
            " 161 her2_neu_chromosone_17_signal_ratio_value                                                                         233 non-null    float64\n",
            " 162 cytokeratin_immunohistochemistry_staining_method_micrometastasis_indicator                                        746 non-null    object \n",
            " 163 metastatic_breast_carcinoma_estrogen_receptor_detection_method_text                                               0 non-null      float64\n",
            " 164 metastatic_breast_carcinoma_lab_proc_her2_neu_in_situ_hybridization_outcome_type                                  98 non-null     object \n",
            " 165 metastatic_breast_carcinoma_pos_finding_her2_erbb2_other_measure_scale_text                                       0 non-null      float64\n",
            " 166 lab_proc_her2_neu_immunohistochemistry_receptor_status                                                            1079 non-null   object \n",
            " 167 progesterone_receptor_level_cell_percent_category                                                                 428 non-null    object \n",
            " 168 metastatic_breast_carcinoma_estrogen_receptor_level_cell_percent_category                                         6 non-null      object \n",
            " 169 metastatic_breast_carcinoma_estrogen_receptor_status                                                              98 non-null     object \n",
            " 170 lab_procedure_her2_neu_in_situ_hybrid_outcome_type                                                                1006 non-null   object \n",
            " 171 her2_neu_breast_carcinoma_copy_analysis_input_total_number                                                        114 non-null    object \n",
            " 172 metastatic_breast_carcinoma_fluorescence_in_situ_hybridization_diagnostic_proc_centromere_17_signal_result_range  0 non-null      float64\n",
            " 173 her2_neu_and_centromere_17_copy_number_metastatic_breast_carcinoma_analysis_input_total_number_count              0 non-null      float64\n",
            " 174 her2_neu_metastatic_breast_carcinoma_copy_analysis_input_total_number                                             0 non-null      float64\n",
            " 175 metastatic_breast_carcinoma_progesterone_receptor_detection_method_text                                           0 non-null      float64\n",
            " 176 additional_pharmaceutical_therapy                                                                                 1060 non-null   object \n",
            " 177 additional_radiation_therapy                                                                                      1058 non-null   object \n",
            " 178 lymphovascular_invasion_present                                                                                   809 non-null    object \n",
            " 179 pos_lymph_node_location_other                                                                                     0 non-null      float64\n",
            " 180 pos_lymph_node_location                                                                                           0 non-null      float64\n",
            " 181 location_in_lung_parenchyma                                                                                       558 non-null    object \n",
            " 182 pulmonary_function_test_performed                                                                                 632 non-null    object \n",
            " 183 pre_bronchodilator_fev1_fvc_percent                                                                               355 non-null    float64\n",
            " 184 kras_mutation_result                                                                                              22 non-null     object \n",
            " 185 post_bronchodilator_fev1_percent                                                                                  234 non-null    float64\n",
            " 186 pre_bronchodilator_fev1_percent                                                                                   420 non-null    float64\n",
            " 187 dlco_predictive_percent                                                                                           355 non-null    float64\n",
            " 188 egfr_mutation_performed                                                                                           622 non-null    object \n",
            " 189 diagnosis                                                                                                         1004 non-null   object \n",
            " 190 eml4_alk_translocation_result                                                                                     0 non-null      float64\n",
            " 191 egfr_mutation_result                                                                                              26 non-null     object \n",
            " 192 post_bronchodilator_fev1_fvc_percent                                                                              197 non-null    float64\n",
            " 193 eml4_alk_translocation_performed                                                                                  580 non-null    object \n",
            " 194 eml4_alk_translocation_method                                                                                     29 non-null     object \n",
            " 195 days_to_new_tumor_event_after_initial_treatment                                                                   1004 non-null   object \n",
            " 196 hemoglobin_result                                                                                                 722 non-null    object \n",
            " 197 serum_calcium_result                                                                                              620 non-null    object \n",
            " 198 platelet_qualitative_result                                                                                       711 non-null    object \n",
            " 199 number_of_lymphnodes_positive                                                                                     834 non-null    object \n",
            " 200 erythrocyte_sedimentation_rate_result                                                                             225 non-null    object \n",
            " 201 white_cell_count_result                                                                                           708 non-null    object \n",
            " 202 malignant_neoplasm_metastatic_involvement_site                                                                    223 non-null    object \n",
            " 203 other_metastatic_involvement_anatomic_site                                                                        510 non-null    object \n",
            " 204 birth_control_pill_history_usage_category                                                                         311 non-null    object \n",
            " 205 alcohol_history_documented                                                                                        858 non-null    object \n",
            " 206 frequency_of_alcohol_consumption                                                                                  362 non-null    float64\n",
            " 207 source_of_patient_death_reason                                                                                    201 non-null    object \n",
            " 208 days_to_diagnostic_mri_performed                                                                                  93 non-null     float64\n",
            " 209 days_to_diagnostic_computed_tomography_performed                                                                  269 non-null    float64\n",
            " 210 amount_of_alcohol_consumption_per_day                                                                             309 non-null    float64\n",
            " 211 family_history_of_cancer                                                                                          587 non-null    object \n",
            " 212 loss_expression_of_mismatch_repair_proteins_by_ihc_result                                                         64 non-null     object \n",
            " 213 preoperative_pretreatment_cea_level                                                                               385 non-null    float64\n",
            " 214 microsatellite_instability                                                                                        134 non-null    object \n",
            " 215 number_of_loci_tested                                                                                             74 non-null     object \n",
            " 216 history_of_colon_polyps                                                                                           522 non-null    object \n",
            " 217 number_of_first_degree_relatives_with_cancer_diagnosis                                                            515 non-null    object \n",
            " 218 number_of_abnormal_loci                                                                                           72 non-null     object \n",
            " 219 circumferential_resection_margin                                                                                  120 non-null    float64\n",
            " 220 non_nodal_tumor_deposits                                                                                          293 non-null    object \n",
            " 221 braf_gene_analysis_result                                                                                         34 non-null     object \n",
            " 222 colon_polyps_present                                                                                              294 non-null    object \n",
            " 223 kras_mutation_codon                                                                                               29 non-null     float64\n",
            " 224 braf_gene_analysis_performed                                                                                      541 non-null    object \n",
            " 225 synchronous_colon_cancer_present                                                                                  538 non-null    object \n",
            " 226 loss_expression_of_mismatch_repair_proteins_by_ihc                                                                455 non-null    object \n",
            " 227 barretts_esophagus                                                                                                460 non-null    object \n",
            " 228 city_of_procurement                                                                                               541 non-null    object \n",
            " 229 reflux_history                                                                                                    508 non-null    object \n",
            " 230 country_of_procurement                                                                                            240 non-null    object \n",
            " 231 antireflux_treatment_type                                                                                         107 non-null    object \n",
            " 232 h_pylori_infection                                                                                                428 non-null    object \n",
            " 233 hypertension                                                                                                      105 non-null    object \n",
            " 234 horm_ther                                                                                                         96 non-null     object \n",
            " 235 pln_pos_ihc                                                                                                       276 non-null    float64\n",
            " 236 surgical_approach                                                                                                 559 non-null    object \n",
            " 237 pregnancies                                                                                                       104 non-null    object \n",
            " 238 diabetes                                                                                                          105 non-null    object \n",
            " 239 peritoneal_wash                                                                                                   546 non-null    object \n",
            " 240 pct_tumor_invasion                                                                                                508 non-null    float64\n",
            " 241 prior_tamoxifen_administered_usage_category                                                                       93 non-null     object \n",
            " 242 colorectal_cancer                                                                                                 102 non-null    object \n",
            " 243 total_aor_lnp                                                                                                     396 non-null    float64\n",
            " 244 pln_pos_light_micro                                                                                               435 non-null    float64\n",
            " 245 total_pelv_lnp                                                                                                    474 non-null    float64\n",
            " 246 total_pelv_lnr                                                                                                    568 non-null    float64\n",
            " 247 aln_pos_light_micro                                                                                               353 non-null    float64\n",
            " 248 aln_pos_ihc                                                                                                       236 non-null    float64\n",
            " 249 total_aor_lnr                                                                                                     552 non-null    float64\n",
            " 250 post_surgical_procedure_assessment_thyroid_gland_carcinoma_status                                                 231 non-null    object \n",
            " 251 metastatic_neoplasm_confirmed_diagnosis_method_text                                                               4 non-null      object \n",
            " 252 metastatic_neoplasm_confirmed_diagnosis_method_name                                                               28 non-null     object \n",
            " 253 prior_glioma                                                                                                      590 non-null    object \n",
            " 254 tumor_residual_disease                                                                                            517 non-null    object \n",
            " 255 jewish_origin                                                                                                     26 non-null     object \n",
            " 256 distant_metastasis_anatomic_site                                                                                  76 non-null     object \n",
            " 257 new_neoplasm_event_type                                                                                           529 non-null    object \n",
            " 258 lymphnode_dissection_method_left                                                                                  291 non-null    object \n",
            " 259 lymphnode_neck_dissection                                                                                         520 non-null    object \n",
            " 260 egfr_amplication_status                                                                                           183 non-null    object \n",
            " 261 hpv_status_by_ish_testing                                                                                         226 non-null    object \n",
            " 262 presence_of_pathological_nodal_extracapsular_spread                                                               360 non-null    object \n",
            " 263 p53_gene_analysis                                                                                                 157 non-null    object \n",
            " 264 hpv_status_by_p16_testing                                                                                         236 non-null    object \n",
            " 265 lymphnode_dissection_method_right                                                                                 310 non-null    object \n",
            " 266 eml4_alk_translocation_identified                                                                                 0 non-null      float64\n",
            " 267 egfr_mutation_identified                                                                                          0 non-null      float64\n",
            " 268 supratentorial_localization                                                                                       485 non-null    object \n",
            " 269 mold_or_dust_allergy_history                                                                                      402 non-null    object \n",
            " 270 motor_movement_changes                                                                                            466 non-null    object \n",
            " 271 inherited_genetic_syndrome_found                                                                                  331 non-null    object \n",
            " 272 seizure_history                                                                                                   488 non-null    object \n",
            " 273 asthma_history                                                                                                    411 non-null    object \n",
            " 274 first_diagnosis_age_asth_ecz_hay_fev_mold_dust                                                                    35 non-null     object \n",
            " 275 first_diagnosis_age_of_food_allergy                                                                               6 non-null      object \n",
            " 276 ldh1_mutation_found                                                                                               129 non-null    object \n",
            " 277 tumor_location                                                                                                    513 non-null    object \n",
            " 278 ldh1_mutation_test_method                                                                                         124 non-null    object \n",
            " 279 animal_insect_allergy_types                                                                                       14 non-null     object \n",
            " 280 first_presenting_symptom                                                                                          461 non-null    object \n",
            " 281 animal_insect_allergy_history                                                                                     385 non-null    object \n",
            " 282 first_presenting_symptom_longest_duration                                                                         443 non-null    object \n",
            " 283 ldh1_mutation_tested                                                                                              453 non-null    object \n",
            " 284 visual_changes                                                                                                    466 non-null    object \n",
            " 285 first_diagnosis_age_of_animal_insect_allergy                                                                      10 non-null     object \n",
            " 286 history_ionizing_rt_to_head                                                                                       495 non-null    object \n",
            " 287 sensory_changes                                                                                                   465 non-null    object \n",
            " 288 food_allergy_history                                                                                              381 non-null    object \n",
            " 289 mental_status_changes                                                                                             471 non-null    object \n",
            " 290 hay_fever_history                                                                                                 402 non-null    object \n",
            " 291 preoperative_corticosteroids                                                                                      435 non-null    object \n",
            " 292 preoperative_antiseizure_meds                                                                                     426 non-null    object \n",
            " 293 family_history_of_primary_brain_tumor                                                                             431 non-null    object \n",
            " 294 inherited_genetic_syndrome_result                                                                                 4 non-null      object \n",
            " 295 days_to_initial_score_performance_status_scale                                                                    283 non-null    object \n",
            " 296 food_allergy_types                                                                                                20 non-null     object \n",
            " 297 headache_history                                                                                                  471 non-null    object \n",
            " 298 eczema_history                                                                                                    409 non-null    object \n",
            " 299 other_genotyping_outcome_lab_results_text                                                                         2 non-null      object \n",
            " 300 extrathyroid_carcinoma_present_extension_status                                                                   486 non-null    object \n",
            " 301 i_131_first_administered_dose                                                                                     83 non-null     object \n",
            " 302 i_131_subsequent_administered_dose                                                                                8 non-null      object \n",
            " 303 i_131_total_administered_dose                                                                                     72 non-null     object \n",
            " 304 primary_neoplasm_focus_type                                                                                       493 non-null    object \n",
            " 305 i_131_total_administered_preparation_technique                                                                    190 non-null    object \n",
            " 306 person_lifetime_risk_radiation_exposure_indicator                                                                 457 non-null    object \n",
            " 307 ret_ptc_rearrangement_genotyping_outcome_lab_results_text                                                         11 non-null     object \n",
            " 308 genotyping_results_gene_mutation_not_reported_reason                                                              503 non-null    object \n",
            " 309 neoplasm_depth                                                                                                    403 non-null    float64\n",
            " 310 genotype_analysis_performed_indicator                                                                             327 non-null    object \n",
            " 311 ras_family_gene_genotyping_outcome_lab_results_text                                                               11 non-null     object \n",
            " 312 neoplasm_length                                                                                                   474 non-null    float64\n",
            " 313 neoplasm_width                                                                                                    425 non-null    float64\n",
            " 314 radiosensitizing_agent_administered_indicator                                                                     16 non-null     object \n",
            " 315 braf_gene_genotyping_outcome_lab_results_text                                                                     27 non-null     object \n",
            " 316 lymph_node_preoperative_scan_indicator                                                                            480 non-null    object \n",
            " 317 radiation_therapy_administered_preparation_technique_text                                                         110 non-null    object \n",
            " 318 lymph_node_preoperative_assessment_diagnostic_imaging_type                                                        371 non-null    object \n",
            " 319 patient_personal_medical_history_thyroid_gland_disorder_name                                                      452 non-null    object \n",
            " 320 first_degree_relative_history_thyroid_gland_carcinoma_diagnosis_relationship_type                                 46 non-null     object \n",
            " 321 radiation_therapy_administered_dose_text                                                                          3 non-null      object \n",
            " 322 patient_personal_medical_history_thyroid_other_specify_text                                                       33 non-null     object \n",
            " 323 primary_thyroid_gland_neoplasm_location_anatomic_site                                                             497 non-null    object \n",
            " 324 lymphnodes_examined                                                                                               490 non-null    object \n",
            " 325 zone_of_origin                                                                                                    495 non-null    object \n",
            " 326 days_to_bone_scan_performed                                                                                       240 non-null    float64\n",
            " 327 diagnostic_mri_performed                                                                                          395 non-null    object \n",
            " 328 diagnostic_mri_result                                                                                             82 non-null     object \n",
            " 329 psa_value                                                                                                         438 non-null    float64\n",
            " 330 days_to_first_biochemical_recurrence                                                                              70 non-null     float64\n",
            " 331 secondary_pattern                                                                                                 495 non-null    float64\n",
            " 332 primary_pattern                                                                                                   495 non-null    float64\n",
            " 333 diagnostic_ct_abd_pelvis_result                                                                                   202 non-null    object \n",
            " 334 bone_scan_results                                                                                                 246 non-null    object \n",
            " 335 biochemical_recurrence                                                                                            427 non-null    object \n",
            " 336 tumor_level                                                                                                       353 non-null    object \n",
            " 337 gleason_score                                                                                                     495 non-null    float64\n",
            " 338 number_of_lymphnodes_examined                                                                                     420 non-null    float64\n",
            " 339 days_to_psa                                                                                                       444 non-null    object \n",
            " 340 tertiary_pattern                                                                                                  154 non-null    float64\n",
            " 341 diagnostic_ct_abd_pelvis_performed                                                                                402 non-null    object \n",
            " 342 family_medical_history_relative_family_member_relationship_type                                                   180 non-null    object \n",
            " 343 tumor_type                                                                                                        416 non-null    object \n",
            " 344 primary_tumor_multiple_present_ind                                                                                416 non-null    object \n",
            " 345 prior_systemic_therapy_type                                                                                       35 non-null     object \n",
            " 346 melanoma_clark_level_value                                                                                        364 non-null    object \n",
            " 347 melanoma_origin_skin_anatomic_site                                                                                435 non-null    object \n",
            " 348 malignant_neoplasm_mitotic_count_rate                                                                             172 non-null    float64\n",
            " 349 breslow_depth_value                                                                                               359 non-null    float64\n",
            " 350 tumor_tissue_site_1                                                                                               468 non-null    object \n",
            " 351 melanoma_ulceration_indicator                                                                                     364 non-null    object \n",
            " 352 primary_neoplasm_melanoma_dx                                                                                      470 non-null    object \n",
            " 353 new_tumor_dx_prior_submitted_specimen_dx                                                                          214 non-null    object \n",
            " 354 primary_anatomic_site_count                                                                                       193 non-null    object \n",
            " 355 interferon_90_day_prior_excision_admin_indicator                                                                  42 non-null     object \n",
            " 356 primary_melanoma_at_diagnosis_count                                                                               172 non-null    float64\n",
            " 357 days_to_submitted_specimen_dx                                                                                     456 non-null    float64\n",
            " 358 antireflux_treatment                                                                                              271 non-null    object \n",
            " 359 number_of_relatives_with_stomach_cancer                                                                           75 non-null     float64\n",
            " 360 family_history_of_stomach_cancer                                                                                  368 non-null    object \n",
            " 361 state_province_country_of_procurement                                                                             310 non-null    object \n",
            " 362 specimen_collection_method_name                                                                                   407 non-null    object \n",
            " 363 child_pugh_classification_grade                                                                                   354 non-null    object \n",
            " 364 hist_of_non_mibc                                                                                                  307 non-null    object \n",
            " 365 occupation_primary_job                                                                                            262 non-null    object \n",
            " 366 person_concomitant_prostate_carcinoma_occurrence_indicator                                                        348 non-null    object \n",
            " 367 person_concomitant_prostate_carcinoma_pathologic_t_stage                                                          83 non-null     object \n",
            " 368 cancer_diagnosis_cancer_type_icd9_text_name                                                                       150 non-null    object \n",
            " 369 non_mibc_tx                                                                                                       302 non-null    object \n",
            " 370 bladder_carcinoma_extracapsular_extension_status                                                                  81 non-null     object \n",
            " 371 chemical_exposure_text                                                                                            106 non-null    object \n",
            " 372 resp_maint_from_bcg_admin_month_dur                                                                               246 non-null    object \n",
            " 373 maint_therapy_course_complete                                                                                     277 non-null    object \n",
            " 374 induction_course_complete                                                                                         278 non-null    object \n",
            " 375 person_occupation_years_number                                                                                    40 non-null     float64\n",
            " 376 person_primary_industry_text                                                                                      187 non-null    object \n",
            " 377 disease_extracapsular_extension_ind_3                                                                             210 non-null    object \n",
            " 378 complete_response_observed                                                                                        276 non-null    object \n",
            " 379 diagnosis_subtype                                                                                                 408 non-null    object \n",
            " 380 diagnosis_age                                                                                                     20 non-null     float64\n",
            " 381 mibc_90day_post_resection_bcg                                                                                     278 non-null    object \n",
            " 382 person_occupation_description_text                                                                                294 non-null    object \n",
            " 383 surgical_procedure_name_other_specify_text                                                                        374 non-null    object \n",
            " 384 relative_family_cancer_history_ind_3                                                                              363 non-null    object \n",
            " 385 vascular_tumor_cell_invasion_type                                                                                 355 non-null    object \n",
            " 386 viral_hepatitis_serology                                                                                          294 non-null    object \n",
            " 387 liver_fibrosis_ishak_score_category                                                                               276 non-null    object \n",
            " 388 ablation_embolization_tx_adjuvant                                                                                 281 non-null    object \n",
            " 389 laboratory_procedure_prothrombin_time_result_value                                                                298 non-null    float64\n",
            " 390 laboratory_procedure_creatinine_result_lower_limit_of_normal_value                                                303 non-null    float64\n",
            " 391 laboratory_procedure_alpha_fetoprotein_outcome_value                                                              282 non-null    float64\n",
            " 392 laboratory_procedure_alpha_fetoprotein_outcome_upper_limit_of_normal_value                                        268 non-null    float64\n",
            " 393 laboratory_procedure_alpha_fetoprotein_outcome_lower_limit_of_normal_value                                        270 non-null    float64\n",
            " 394 laboratory_procedure_albumin_result_upper_limit_of_normal_value                                                   296 non-null    float64\n",
            " 395 laboratory_procedure_albumin_result_specified_value                                                               301 non-null    float64\n",
            " 396 laboratory_procedure_creatinine_result_upper_limit_of_normal_value                                                305 non-null    float64\n",
            " 397 laboratory_prcoedure_platelet_result_upper_limit_of_normal_value                                                  307 non-null    float64\n",
            " 398 lab_procedure_platelet_result_specified_value                                                                     308 non-null    float64\n",
            " 399 days_to_definitive_surgical_procedure_performed                                                                   371 non-null    float64\n",
            " 400 hematology_serum_creatinine_laboratory_result_value_in_mg_dl                                                      303 non-null    float64\n",
            " 401 history_hepato_carcinoma_risk_factor                                                                              366 non-null    object \n",
            " 402 history_hepato_carcinoma_risk_factor_other                                                                        33 non-null     object \n",
            " 403 cancer_diagnosis_first_degree_relative_number                                                                     117 non-null    float64\n",
            " 404 laboratory_prcoedure_platelet_result_lower_limit_of_normal_value                                                  307 non-null    float64\n",
            " 405 laboratory_procedure_international_normalization_ratio_result_lower_limit_of_normal_value                         269 non-null    float64\n",
            " 406 laboratory_procedure_albumin_result_lower_limit_of_normal_value                                                   296 non-null    float64\n",
            " 407 laboratory_procedure_total_bilirubin_result_specified_lower_limit_of_normal_value                                 299 non-null    float64\n",
            " 408 laboratory_procedure_total_bilirubin_result_specified_upper_limit_of_normal_value                                 304 non-null    float64\n",
            " 409 laboratory_procedure_total_bilirubin_result_upper_limit_normal_value                                              300 non-null    float64\n",
            " 410 adjacent_hepatic_tissue_inflammation_extent_type                                                                  288 non-null    object \n",
            " 411 laboratory_procedure_international_normalization_ratio_result_upper_limit_of_normal_value                         269 non-null    float64\n",
            " 412 mitotic_count                                                                                                     142 non-null    float64\n",
            " 413 oligonucleotide_primer_pair_laboratory_procedure_performed_name                                                   8 non-null      object \n",
            " 414 radiation_type_notes                                                                                              306 non-null    object \n",
            " 415 number_of_successful_pregnancies_which_resulted_in_at_least_1_live_birth                                          261 non-null    float64\n",
            " 416 external_beam_radiation_therapy_administered_paraaortic_region_lymph_node_dose                                    11 non-null     float64\n",
            " 417 concurrent_chemotherapy_dose                                                                                      35 non-null     object \n",
            " 418 chemotherapy_regimen_type                                                                                         85 non-null     object \n",
            " 419 chemotherapy_negation_radiation_therapy_concurrent_not_administered_reason                                        44 non-null     object \n",
            " 420 postoperative_rx_tx_1                                                                                             200 non-null    object \n",
            " 421 dose_frequency_text                                                                                               74 non-null     object \n",
            " 422 rt_pelvis_administered_total_dose                                                                                 83 non-null     float64\n",
            " 423 cervical_neoplasm_pathologic_margin_involved_type                                                                 76 non-null     object \n",
            " 424 cervical_neoplasm_pathologic_margin_involved_text                                                                 306 non-null    object \n",
            " 425 cervical_carcinoma_pelvic_extension_text                                                                          11 non-null     object \n",
            " 426 cervical_carcinoma_corpus_uteri_involvement_indicator                                                             131 non-null    object \n",
            " 427 ectopic_pregnancy_count                                                                                           116 non-null    float64\n",
            " 428 rt_administered_type                                                                                              90 non-null     object \n",
            " 429 oligonucleotide_primer_pair_laboratory_procedure_performed_text                                                   306 non-null    object \n",
            " 430 other_chemotherapy_agent_administration_specify                                                                   204 non-null    object \n",
            " 431 radiation_therapy_not_administered_reason                                                                         36 non-null     object \n",
            " 432 patient_pregnancy_therapeutic_abortion_count                                                                      121 non-null    float64\n",
            " 433 days_to_laboratory_procedure_tumor_marker_squamous_cell_carcinoma_antigen_result                                  0 non-null      float64\n",
            " 434 days_to_performance_status_assessment                                                                             163 non-null    float64\n",
            " 435 prescribed_dose_units                                                                                             0 non-null      float64\n",
            " 436 diagnostic_ct_result_outcome                                                                                      63 non-null     object \n",
            " 437 patient_pregnancy_spontaneous_abortion_count                                                                      147 non-null    float64\n",
            " 438 patient_pregnancy_count                                                                                           0 non-null      float64\n",
            " 439 fdg_or_ct_pet_performed_outcome                                                                                   34 non-null     object \n",
            " 440 female_breast_feeding_or_pregnancy_status_indicator                                                               72 non-null     object \n",
            " 441 standardized_uptake_value_cervix_uteri_assessment_measurement                                                     17 non-null     float64\n",
            " 442 pregnant_at_diagnosis                                                                                             158 non-null    object \n",
            " 443 pregnancy_stillbirth_count                                                                                        111 non-null    float64\n",
            " 444 patient_history_immune_system_and_related_disorders_text                                                          2 non-null      object \n",
            " 445 patient_history_immune_system_and_related_disorders_name                                                          85 non-null     object \n",
            " 446 days_to_fdg_or_ct_pet_performed                                                                                   43 non-null     float64\n",
            " 447 diagnostic_mri_result_outcome                                                                                     14 non-null     object \n",
            " 448 radiation_therapy_1                                                                                               200 non-null    object \n",
            " 449 radiation_therapy_not_administered_specify                                                                        306 non-null    object \n",
            " 450 human_papillomavirus_laboratory_procedure_performed_name                                                          12 non-null     object \n",
            " 451 chemotherapy_negation_radiation_therapy_concurrent_administered_text                                              306 non-null    object \n",
            " 452 lymph_node_location_positive_pathology_name                                                                       61 non-null     object \n",
            " 453 keratinizing_squamous_cell_carcinoma_present_indicator                                                            175 non-null    object \n",
            " 454 laboratory_procedure_tumor_marker_squamous_cell_carcinoma_antigen_result_value                                    0 non-null      float64\n",
            " 455 total_number_of_pregnancies                                                                                       266 non-null    float64\n",
            " 456 hysterectomy_Performed_Ind_3                                                                                      0 non-null      float64\n",
            " 457 hysterectomy_performed_text                                                                                       306 non-null    object \n",
            " 458 human_papillomavirus_other_type_text                                                                              10 non-null     object \n",
            " 459 hysterectomy_performed_type                                                                                       260 non-null    object \n",
            " 460 lymphovascular_invasion_indicator                                                                                 160 non-null    object \n",
            " 461 brachytherapy_first_reference_point_administered_total_dose                                                       59 non-null     float64\n",
            " 462 brachytherapy_method_other_specify_text                                                                           306 non-null    object \n",
            " 463 lymph_node_location_positive_pathology_text                                                                       6 non-null      object \n",
            " 464 tumor_response_cdus_type                                                                                          49 non-null     object \n",
            " 465 brachytherapy_method_type                                                                                         70 non-null     object \n",
            " 466 agent_total_dose_count                                                                                            74 non-null     object \n",
            " 467 live_birth_number                                                                                                 0 non-null      float64\n",
            " 468 human_papillomavirus_laboratory_procedure_performed_text                                                          306 non-null    object \n",
            " 469 human_papillomavirus_type                                                                                         61 non-null     object \n",
            " 470 performance_status_assessment_timepoint_category_other_text                                                       303 non-null    object \n",
            " 471 ct_scan                                                                                                           258 non-null    object \n",
            " 472 new_neoplasm_event_occurrence_anatomic_site                                                                       267 non-null    object \n",
            " 473 radiologic_tumor_width                                                                                            125 non-null    object \n",
            " 474 contiguous_organ_resection_site                                                                                   25 non-null     object \n",
            " 475 radiologic_tumor_depth                                                                                            98 non-null     object \n",
            " 476 radiologic_tumor_burden                                                                                           47 non-null     float64\n",
            " 477 tumor_depth                                                                                                       222 non-null    object \n",
            " 478 pathologic_tumor_width                                                                                            205 non-null    object \n",
            " 479 tumor_multifocal                                                                                                  211 non-null    object \n",
            " 480 other_contiguous_organ_resection_site                                                                             256 non-null    object \n",
            " 481 contiguous_organ_invaded                                                                                          58 non-null     object \n",
            " 482 pathologic_tumor_length                                                                                           214 non-null    object \n",
            " 483 pathologic_tumor_depth                                                                                            201 non-null    object \n",
            " 484 pathologic_tumor_burden                                                                                           73 non-null     float64\n",
            " 485 radiologic_tumor_length                                                                                           130 non-null    object \n",
            " 486 tumor_total_necrosis_percent                                                                                      180 non-null    object \n",
            " 487 primary_tumor_lower_uterus_segment                                                                                101 non-null    object \n",
            " 488 days_to_well_differentiated_liposarcoma_resection                                                                 6 non-null      float64\n",
            " 489 metastatic_site_at_diagnosis_other                                                                                257 non-null    object \n",
            " 490 metastatic_site_at_diagnosis                                                                                      56 non-null     object \n",
            " 491 ss18_ssx_testing_method                                                                                           8 non-null      object \n",
            " 492 ss18_ssx_fusion_status                                                                                            6 non-null      object \n",
            " 493 specific_tumor_total_necrosis_percent                                                                             95 non-null     float64\n",
            " 494 leiomyosarcoma_histologic_subtype                                                                                 100 non-null    object \n",
            " 495 metastatic_neoplasm_confirmed                                                                                     184 non-null    object \n",
            " 496 local_disease_recurrence                                                                                          181 non-null    object \n",
            " 497 days_to_well_differentiated_liposarcoma_primary_dx                                                                5 non-null      float64\n",
            " 498 mpnst_neurofibromatosis                                                                                           13 non-null     object \n",
            " 499 mpnst_exisiting_plexiform_neurofibroma                                                                            12 non-null     object \n",
            " 500 mpnst_nf1_genetic_testing                                                                                         11 non-null     object \n",
            " 501 mpnst_specific_mutations                                                                                          1 non-null      object \n",
            " 502 well_differentiated_liposarcoma_primary_dx                                                                        43 non-null     object \n",
            " 503 leiomyosarcoma_major_vessel_involvement                                                                           101 non-null    object \n",
            " 504 discontiguous_lesion_count                                                                                        48 non-null     float64\n",
            " 505 mpnst_neurofibromatosis_heredity                                                                                  8 non-null      object \n",
            " 506 maximum_tumor_dimension                                                                                           207 non-null    float64\n",
            " 507 alcoholic_exposure_category                                                                                       111 non-null    object \n",
            " 508 planned_surgery_status                                                                                            71 non-null     object \n",
            " 509 esophageal_tumor_involvement_site                                                                                 182 non-null    object \n",
            " 510 esophageal_tumor_cental_location                                                                                  182 non-null    object \n",
            " 511 lymph_node_metastasis_radiographic_evidence                                                                       159 non-null    object \n",
            " 512 days_to_pancreatitis_onset                                                                                        11 non-null     float64\n",
            " 513 days_to_diabetes_onset                                                                                            14 non-null     float64\n",
            " 514 adenocarcinoma_invasion                                                                                           184 non-null    object \n",
            " 515 surgery_performed_type                                                                                            182 non-null    object \n",
            " 516 columnar_metaplasia_present                                                                                       136 non-null    object \n",
            " 517 relative_cancer_type                                                                                              64 non-null     object \n",
            " 518 amt_alcohol_consumption_per_day                                                                                   31 non-null     float64\n",
            " 519 columnar_mucosa_goblet_cell_present                                                                               125 non-null    object \n",
            " 520 history_of_chronic_pancreatitis                                                                                   167 non-null    object \n",
            " 521 history_of_diabetes                                                                                               172 non-null    object \n",
            " 522 goblet_cells_present                                                                                              39 non-null     object \n",
            " 523 history_of_esophageal_cancer                                                                                      182 non-null    object \n",
            " 524 histologic_grading_tier_category                                                                                  104 non-null    object \n",
            " 525 columnar_mucosa_dysplasia                                                                                         129 non-null    object \n",
            " 526 number_of_relatives_diagnosed                                                                                     41 non-null     float64\n",
            " 527 state_province_of_procurement                                                                                     119 non-null    object \n",
            " 528 treatment_prior_to_surgery                                                                                        54 non-null     object \n",
            " 529 initial_diagnosis_by                                                                                              158 non-null    object \n",
            " 530 surgery_performed_type_other                                                                                      184 non-null    object \n",
            " 531 country_of_birth                                                                                                  101 non-null    object \n",
            " 532 disease_detected_on_screening                                                                                     145 non-null    object \n",
            " 533 history_pheo_or_para_include_benign                                                                               178 non-null    object \n",
            " 534 outside_adrenal                                                                                                   20 non-null     object \n",
            " 535 history_pheo_or_para_anatomic_site                                                                                172 non-null    object \n",
            " 536 family_member_relationship_type                                                                                   154 non-null    object \n",
            " 537 post_op_ablation_embolization_tx                                                                                  160 non-null    object \n",
            " 538 days_to_pre_orchi_serum_test                                                                                      124 non-null    float64\n",
            " 539 post_orchi_hcg                                                                                                    65 non-null     float64\n",
            " 540 bilateral_diagnosis_timing_type                                                                                   133 non-null    object \n",
            " 541 post_orchi_ldh                                                                                                    109 non-null    float64\n",
            " 542 testis_tumor_microextent                                                                                          36 non-null     object \n",
            " 543 undescended_testis_corrected                                                                                      133 non-null    object \n",
            " 544 post_orchi_lh                                                                                                     1 non-null      float64\n",
            " 545 post_orchi_lymph_node_dissection                                                                                  124 non-null    object \n",
            " 546 post_orchi_testosterone                                                                                           5 non-null      float64\n",
            " 547 serum_markers                                                                                                     131 non-null    object \n",
            " 548 undescended_testis_corrected_age                                                                                  133 non-null    object \n",
            " 549 undescended_testis_method_left                                                                                    130 non-null    object \n",
            " 550 relation_testicular_cancer                                                                                        133 non-null    object \n",
            " 551 postoperative_tx                                                                                                  133 non-null    object \n",
            " 552 testis_tumor_macroextent                                                                                          118 non-null    object \n",
            " 553 synchronous_tumor_histology_pct                                                                                   133 non-null    object \n",
            " 554 pre_orchi_afp                                                                                                     122 non-null    float64\n",
            " 555 pre_orchi_hcg                                                                                                     96 non-null     float64\n",
            " 556 pre_orchi_ldh                                                                                                     113 non-null    float64\n",
            " 557 pre_orchi_lh                                                                                                      1 non-null      float64\n",
            " 558 pre_orchi_testosterone                                                                                            1 non-null      float64\n",
            " 559 synchronous_tumor_histology_type                                                                                  133 non-null    object \n",
            " 560 relative_family_cancer_hx_text                                                                                    133 non-null    object \n",
            " 561 days_to_post_orchi_serum_test                                                                                     117 non-null    float64\n",
            " 562 undescended_testis_method_right                                                                                   127 non-null    object \n",
            " 563 testis_tumor_macroextent_other                                                                                    133 non-null    object \n",
            " 564 days_to_bilateral_tumor_dx                                                                                        133 non-null    object \n",
            " 565 level_of_non_descent                                                                                              133 non-null    object \n",
            " 566 post_orchi_afp                                                                                                    113 non-null    float64\n",
            " 567 intratubular_germ_cell_neoplasm                                                                                   128 non-null    object \n",
            " 568 igcccg_stage                                                                                                      43 non-null     object \n",
            " 569 history_of_undescended_testis                                                                                     132 non-null    object \n",
            " 570 molecular_test_result                                                                                             114 non-null    object \n",
            " 571 history_hypospadias                                                                                               129 non-null    object \n",
            " 572 history_fertility                                                                                                 132 non-null    object \n",
            " 573 histological_percentage                                                                                           133 non-null    object \n",
            " 574 first_treatment_success                                                                                           123 non-null    object \n",
            " 575 family_history_testicular_cancer                                                                                  133 non-null    object \n",
            " 576 family_history_other_cancer                                                                                       131 non-null    object \n",
            " 577 masaoka_stage                                                                                                     122 non-null    object \n",
            " 578 history_myasthenia_gravis                                                                                         123 non-null    object \n",
            " 579 section_myasthenia_gravis                                                                                         103 non-null    object \n",
            " 580 new_neoplasm_occurrence_anatomic_site_text                                                                        114 non-null    object \n",
            " 581 percent_tumor_sarcomatoid                                                                                         1 non-null      float64\n",
            " 582 presence_of_sarcomatoid_features                                                                                  41 non-null     object \n",
            " 583 tmem127                                                                                                           1 non-null      object \n",
            " 584 therapeutic_mitotane_lvl_recurrence                                                                               21 non-null     object \n",
            " 585 therapeutic_mitotane_lvl_macroscopic_residual                                                                     10 non-null     object \n",
            " 586 therapeutic_mitotane_levels_achieved                                                                              43 non-null     object \n",
            " 587 metastatic_neoplasm_initial_diagnosis_anatomic_site                                                               19 non-null     object \n",
            " 588 mitoses_count                                                                                                     61 non-null     float64\n",
            " 589 mitotane_therapy                                                                                                  90 non-null     object \n",
            " 590 mitotane_therapy_adjuvant_setting                                                                                 57 non-null     object \n",
            " 591 mitotane_therapy_for_macroscopic_residual_disease                                                                 39 non-null     object \n",
            " 592 mitotic_rate                                                                                                      79 non-null     object \n",
            " 593 sinusoid_invasion                                                                                                 67 non-null     object \n",
            " 594 therapeutic_mitotane_lvl_progression                                                                              8 non-null      object \n",
            " 595 excess_adrenal_hormone_diagnosis_method_type                                                                      53 non-null     object \n",
            " 596 molecular_analysis_performed_indicator                                                                            87 non-null     object \n",
            " 597 excess_adrenal_hormone_history_type                                                                               88 non-null     object \n",
            " 598 necrosis                                                                                                          86 non-null     object \n",
            " 599 sdhd                                                                                                              1 non-null      object \n",
            " 600 sdhc                                                                                                              1 non-null      object \n",
            " 601 nuclear_grade_III_IV                                                                                              70 non-null     object \n",
            " 602 sdhb                                                                                                              1 non-null      object \n",
            " 603 sdhaf2_sdh5                                                                                                       1 non-null      object \n",
            " 604 sdha                                                                                                              1 non-null      object \n",
            " 605 atypical_mitotic_figures                                                                                          67 non-null     object \n",
            " 606 ct_scan_findings                                                                                                  76 non-null     object \n",
            " 607 ret                                                                                                               1 non-null      object \n",
            " 608 cytoplasm_presence_less_than_equal_25_percent                                                                     68 non-null     object \n",
            " 609 weiss_venous_invasion                                                                                             78 non-null     object \n",
            " 610 weiss_score                                                                                                       69 non-null     float64\n",
            " 611 vhl                                                                                                               1 non-null      object \n",
            " 612 invasion_of_tumor_capsule                                                                                         82 non-null     object \n",
            " 613 diffuse_architecture                                                                                              69 non-null     object \n",
            " 614 serum_mesothelin_lower_limit                                                                                      16 non-null     float64\n",
            " 615 asbestos_exposure_type                                                                                            40 non-null     object \n",
            " 616 pleurodesis_performed_90_days                                                                                     9 non-null      object \n",
            " 617 mesothelioma_detection_method                                                                                     72 non-null     object \n",
            " 618 history_asbestos_exposure                                                                                         82 non-null     object \n",
            " 619 pleurodesis_performed_prior                                                                                       86 non-null     object \n",
            " 620 family_history_cancer_type                                                                                        30 non-null     object \n",
            " 621 family_history_cancer_type_other                                                                                  87 non-null     object \n",
            " 622 asbestos_exposure_age                                                                                             12 non-null     float64\n",
            " 623 serum_mesothelin_prior_tx                                                                                         15 non-null     float64\n",
            " 624 asbestos_exposure_years                                                                                           16 non-null     float64\n",
            " 625 serum_mesothelin_upper_limit                                                                                      16 non-null     float64\n",
            " 626 asbestos_exposure_source                                                                                          43 non-null     object \n",
            " 627 suv_of_pleura_max                                                                                                 22 non-null     float64\n",
            " 628 primary_occupation                                                                                                60 non-null     object \n",
            " 629 primary_occupation_years_worked                                                                                   15 non-null     float64\n",
            " 630 primary_occupation_other                                                                                          87 non-null     object \n",
            " 631 creatinine_norm_range_lower                                                                                       45 non-null     float64\n",
            " 632 creatinine_norm_range_upper                                                                                       45 non-null     float64\n",
            " 633 asbestos_exposure_age_last                                                                                        9 non-null      float64\n",
            " 634 creatinine_prior_tx                                                                                               45 non-null     float64\n",
            " 635 tumor_basal_diameter                                                                                              79 non-null     float64\n",
            " 636 tumor_basal_diameter_mx                                                                                           80 non-null     object \n",
            " 637 metastatic_site                                                                                                   48 non-null     object \n",
            " 638 tumor_thickness                                                                                                   80 non-null     float64\n",
            " 639 microvascular_density_mvd                                                                                         0 non-null      float64\n",
            " 640 tumor_shape_pathologic_clinical                                                                                   63 non-null     object \n",
            " 641 tumor_infiltrating_lymphocytes                                                                                    64 non-null     object \n",
            " 642 tumor_morphology_percentage                                                                                       80 non-null     object \n",
            " 643 tumor_thickness_measurement                                                                                       80 non-null     object \n",
            " 644 tumor_infiltrating_macrophages                                                                                    62 non-null     object \n",
            " 645 pet_ct_standardized_values                                                                                        0 non-null      float64\n",
            " 646 eye_color                                                                                                         71 non-null     object \n",
            " 647 other_metastatic_site                                                                                             1 non-null      object \n",
            " 648 extravascular_matrix_patterns                                                                                     59 non-null     object \n",
            " 649 histological_type_1                                                                                               80 non-null     object \n",
            " 650 extranocular_nodule_size                                                                                          6 non-null      object \n",
            " 651 extrascleral_extension                                                                                            75 non-null     object \n",
            " 652 gene_expression_profile                                                                                           72 non-null     object \n",
            " 653 cytogenetic_abnormality                                                                                           67 non-null     object \n",
            " 654 result_of_immunophenotypic_analysis                                                                               46 non-null     object \n",
            " 655 prior_immunosuppressive_therapy_other                                                                             2 non-null      object \n",
            " 656 prior_immunosuppressive_therapy_type                                                                              33 non-null     object \n",
            " 657 prior_infectious_disease                                                                                          5 non-null      object \n",
            " 658 igk_genotype_results_1                                                                                            0 non-null      float64\n",
            " 659 immunophenotypic_analysis_method                                                                                  0 non-null      float64\n",
            " 660 igk_genotype_results                                                                                              22 non-null     object \n",
            " 661 bone_marrow_biopsy_done                                                                                           30 non-null     object \n",
            " 662 bone_marrow_involvement                                                                                           35 non-null     object \n",
            " 663 bone_marrow_involvement_1                                                                                         0 non-null      float64\n",
            " 664 prior_infectious_disease_other                                                                                    0 non-null      float64\n",
            " 665 ebv_positive_malignant_cells_percent                                                                              0 non-null      float64\n",
            " 666 b_lymphocyte_genotyping_method_1                                                                                  0 non-null      float64\n",
            " 667 prior_immunologic_disease_type                                                                                    14 non-null     object \n",
            " 668 igh_genotype_results_1                                                                                            0 non-null      float64\n",
            " 669 b_lymphocyte_genotyping_method                                                                                    7 non-null      object \n",
            " 670 prior_immunologic_disease_other                                                                                   4 non-null      object \n",
            " 671 maximum_tumor_bulk_anatomic_location                                                                              30 non-null     object \n",
            " 672 immunophenotypic_analysis_results                                                                                 0 non-null      float64\n",
            " 673 maximum_tumor_bulk_anatomic_site                                                                                  0 non-null      float64\n",
            " 674 immunophenotypic_analysis_test                                                                                    46 non-null     object \n",
            " 675 extranodal_sites_involvement_number                                                                               0 non-null      float64\n",
            " 676 immunophenotypic_analysis_tested                                                                                  0 non-null      float64\n",
            " 677 ebv_status_malignant_cells_method                                                                                 0 non-null      float64\n",
            " 678 percent_ebv_positive_malignant_cells                                                                              1 non-null      float64\n",
            " 679 tumor_resected_max_dimension                                                                                      0 non-null      float64\n",
            " 680 immunophenotypic_analysis_methodology                                                                             46 non-null     object \n",
            " 681 igh_genotype_results                                                                                              23 non-null     object \n",
            " 682 ebv_diagnostic_methodology                                                                                        7 non-null      object \n",
            " 683 follicular_component_percent                                                                                      0 non-null      float64\n",
            " 684 abnormality_tested_methodology                                                                                    19 non-null     object \n",
            " 685 nodal_anatomic_site                                                                                               43 non-null     object \n",
            " 686 histology_of_bone_marrow_sample                                                                                   6 non-null      object \n",
            " 687 abnormality_tested_methodology_1                                                                                  13 non-null     object \n",
            " 688 ldh_upper_limit                                                                                                   33 non-null     float64\n",
            " 689 number_of_involved_extranodal_sites                                                                               37 non-null     float64\n",
            " 690 extranodal_disease_involvement_site                                                                               25 non-null     object \n",
            " 691 ebv_antibody_status                                                                                               44 non-null     object \n",
            " 692 extranodal_disease_involvement_site_other                                                                         4 non-null      object \n",
            " 693 genetic_abnormality_tested_other                                                                                  0 non-null      float64\n",
            " 694 genetic_abnormality_tested_1                                                                                      0 non-null      float64\n",
            " 695 genetic_abnormality_tested                                                                                        19 non-null     object \n",
            " 696 genetic_abnormality_results_other                                                                                 0 non-null      float64\n",
            " 697 genetic_abnormality_results                                                                                       0 non-null      float64\n",
            " 698 percentage_of_follicular_component                                                                                40 non-null     object \n",
            " 699 pet_scan_results                                                                                                  0 non-null      float64\n",
            " 700 other_genetic_abnormality_tested                                                                                  13 non-null     object \n",
            " 701 epstein_barr_viral_status                                                                                         0 non-null      float64\n",
            " 702 lymph_node_involvement_site                                                                                       0 non-null      float64\n",
            " 703 mib1_positive_percentage_range                                                                                    27 non-null     object \n",
            " 704 mib1_positive_percentage_range_1                                                                                  0 non-null      float64\n",
            " 705 genetic_abnormality_method_other                                                                                  0 non-null      float64\n",
            " 706 extranodal_involvment_site_other                                                                                  0 non-null      float64\n",
            " 707 ldh_lab_value                                                                                                     30 non-null     float64\n",
            " 708 hiv_positive_status                                                                                               48 non-null     object \n",
            " 709 ldh_level                                                                                                         0 non-null      float64\n",
            " 710 ldh_norm_range_upper                                                                                              0 non-null      float64\n",
            " 711 abnormality_tested_results_1                                                                                      13 non-null     object \n",
            " 712 abnormality_tested_results                                                                                        19 non-null     object \n",
            " 713 genetic_abnormality_method                                                                                        0 non-null      float64\n",
            " 714 bone_marrow_sample_histology                                                                                      0 non-null      float64\n",
            " 715 albumin_result_upper_limit                                                                                        31 non-null     float64\n",
            " 716 vascular_tumor_cell_type                                                                                          36 non-null     object \n",
            " 717 albumin_result_lower_limit                                                                                        31 non-null     float64\n",
            " 718 albumin_result_specified_value                                                                                    31 non-null     float64\n",
            " 719 platelet_result_upper_limit                                                                                       34 non-null     float64\n",
            " 720 intern_norm_ratio_upper_limit                                                                                     27 non-null     float64\n",
            " 721 cholangitis_tissue_evidence                                                                                       29 non-null     object \n",
            " 722 relative_family_cancer_history                                                                                    36 non-null     object \n",
            " 723 platelet_result_lower_limit                                                                                       34 non-null     float64\n",
            " 724 hist_hepato_carcinoma_risk                                                                                        1 non-null      object \n",
            " 725 hist_hepato_carc_fact                                                                                             36 non-null     object \n",
            " 726 cancer_first_degree_relative                                                                                      20 non-null     float64\n",
            " 727 creatinine_lower_level                                                                                            34 non-null     float64\n",
            " 728 prothrombin_time_result_value                                                                                     32 non-null     float64\n",
            " 729 ca_19_9_level_upper                                                                                               31 non-null     float64\n",
            " 730 ca_19_9_level_lower                                                                                               28 non-null     float64\n",
            " 731 ca_19_9_level                                                                                                     30 non-null     float64\n",
            " 732 creatinine_upper_limit                                                                                            34 non-null     float64\n",
            " 733 surgical_procedure_name                                                                                           2 non-null      object \n",
            " 734 creatinine_value_in_mg_dl                                                                                         34 non-null     float64\n",
            " 735 bilirubin_lower_limit                                                                                             32 non-null     float64\n",
            " 736 total_bilirubin_upper_limit                                                                                       32 non-null     float64\n",
            " 737 platelet_result_count                                                                                             34 non-null     float64\n",
            " 738 fibrosis_ishak_score                                                                                              28 non-null     object \n",
            " 739 fetoprotein_outcome_value                                                                                         24 non-null     float64\n",
            " 740 fetoprotein_outcome_upper_limit                                                                                   25 non-null     float64\n",
            " 741 fetoprotein_outcome_lower_limit                                                                                   25 non-null     float64\n",
            " 742 inter_norm_ratio_lower_limit                                                                                      27 non-null     float64\n",
            " 743 family_cancer_type_txt                                                                                            21 non-null     object \n",
            " 744 bilirubin_upper_limit                                                                                             32 non-null     float64\n",
            " 745 days_to_last_known_alive                                                                                          11 non-null     float64\n",
            "dtypes: float64(246), object(500)\n",
            "memory usage: 61.2+ MB\n"
          ],
          "name": "stdout"
        }
      ]
    },
    {
      "cell_type": "code",
      "metadata": {
        "id": "zp6VkZMc9sWx"
      },
      "source": [
        "# Delete columns containing either 99% or more than 99% NaN Values\n",
        "perc = 99.0\n",
        "min_count =  int(((100-perc)/100)*df1.shape[0] + 1)\n",
        "mod_df = df1.dropna( axis=1, \n",
        "                thresh=min_count)"
      ],
      "execution_count": 447,
      "outputs": []
    },
    {
      "cell_type": "markdown",
      "metadata": {
        "id": "pxchv96ab4OP"
      },
      "source": [
        "5.What’s the average age of a patient in this dataset?\n",
        "\n",
        "---\n",
        "\n"
      ]
    },
    {
      "cell_type": "code",
      "metadata": {
        "id": "pMct99wC4Hyh"
      },
      "source": [
        "# The challenge is to know when is the end date for calculating the age and the survival time in question 9. \n",
        "# Also , we need to consider the days to death, if we know the meaning of day to birth and day to death, then we can make it more accuratly\n",
        "#In this question, I assume today is the end date for calculating the age.\n"
      ],
      "execution_count": 448,
      "outputs": []
    },
    {
      "cell_type": "code",
      "metadata": {
        "id": "ZHKBCcB6iYaG"
      },
      "source": [
        "import datetime\n",
        "dt = datetime.datetime.today()\n",
        "df2 = df1.dropna(subset=['days_to_birth'])"
      ],
      "execution_count": 449,
      "outputs": []
    },
    {
      "cell_type": "code",
      "metadata": {
        "id": "RQOovktH4nws"
      },
      "source": [
        "df2['delta_of_birth'] = df2.apply(lambda row : datetime.timedelta(days = -row.days_to_birth), axis = 1) "
      ],
      "execution_count": 450,
      "outputs": []
    },
    {
      "cell_type": "code",
      "metadata": {
        "id": "ftnfjD9s3Ipf"
      },
      "source": [
        "df2['year_of_birth'] = df2.apply(lambda row : (dt- row.delta_of_birth).year, axis = 1) "
      ],
      "execution_count": 451,
      "outputs": []
    },
    {
      "cell_type": "markdown",
      "metadata": {
        "id": "qcCde3_JGXkg"
      },
      "source": [
        "consider death days"
      ]
    },
    {
      "cell_type": "code",
      "metadata": {
        "id": "BoxHF-N9HPGj"
      },
      "source": [
        "df2[\"days_to_death\"]=df2[\"days_to_death\"].astype(str)"
      ],
      "execution_count": 452,
      "outputs": []
    },
    {
      "cell_type": "code",
      "metadata": {
        "id": "EpCpwixsD9-n"
      },
      "source": [
        "df2[\"days_to_death\"]=df2[\"days_to_death\"].replace({'[Not Applicable]':0,'nan': 0,\"[Discrepancy]\":0})"
      ],
      "execution_count": 453,
      "outputs": []
    },
    {
      "cell_type": "code",
      "metadata": {
        "id": "dVwBBveeEwPh"
      },
      "source": [
        "df2[\"days_to_death\"]=pd.to_numeric(df2[\"days_to_death\"])"
      ],
      "execution_count": 454,
      "outputs": []
    },
    {
      "cell_type": "code",
      "metadata": {
        "id": "vLVx6MzcG1Ub"
      },
      "source": [
        "df2['delta_of_death'] = df2.apply(lambda row : datetime.timedelta(days = row.days_to_death), axis = 1) "
      ],
      "execution_count": 455,
      "outputs": []
    },
    {
      "cell_type": "code",
      "metadata": {
        "id": "-Uq30T7MIrps"
      },
      "source": [
        "df2['year_of_end'] = df2.apply(lambda row : (dt- row.delta_of_death).year, axis = 1) "
      ],
      "execution_count": 456,
      "outputs": []
    },
    {
      "cell_type": "code",
      "metadata": {
        "id": "w4841L4_4qJE"
      },
      "source": [
        "df2['age'] = df2.apply(lambda row : row.year_of_end- row.year_of_birth, axis = 1) "
      ],
      "execution_count": 457,
      "outputs": []
    },
    {
      "cell_type": "code",
      "metadata": {
        "colab": {
          "base_uri": "https://localhost:8080/"
        },
        "id": "LLb8j4go5X-v",
        "outputId": "6f00db8e-1a2f-4bc0-d13b-08e7f65653ae"
      },
      "source": [
        "df2['age'].mean()"
      ],
      "execution_count": 458,
      "outputs": [
        {
          "output_type": "execute_result",
          "data": {
            "text/plain": [
              "58.810409620443444"
            ]
          },
          "metadata": {
            "tags": []
          },
          "execution_count": 458
        }
      ]
    },
    {
      "cell_type": "markdown",
      "metadata": {
        "id": "Ql7KOaogf9r9"
      },
      "source": [
        "6.Breakdown of the patient’s birth year"
      ]
    },
    {
      "cell_type": "code",
      "metadata": {
        "colab": {
          "base_uri": "https://localhost:8080/"
        },
        "id": "ylFFgwHV2Fkz",
        "outputId": "5f271593-be56-41db-d1b4-2656a0358f3e"
      },
      "source": [
        "df2['year_of_birth']"
      ],
      "execution_count": 459,
      "outputs": [
        {
          "output_type": "execute_result",
          "data": {
            "text/plain": [
              "0        1959\n",
              "1        1966\n",
              "2        1957\n",
              "3        1967\n",
              "4        1931\n",
              "         ... \n",
              "10756    1964\n",
              "10757    1940\n",
              "10758    1976\n",
              "10759    1940\n",
              "10760    1964\n",
              "Name: year_of_birth, Length: 10644, dtype: int64"
            ]
          },
          "metadata": {
            "tags": []
          },
          "execution_count": 459
        }
      ]
    },
    {
      "cell_type": "code",
      "metadata": {
        "colab": {
          "base_uri": "https://localhost:8080/"
        },
        "id": "VdWkG_dr3x33",
        "outputId": "6295347f-832e-4ccd-d15d-c98386c02f4a"
      },
      "source": [
        "df2['year_of_birth'].describe()"
      ],
      "execution_count": 460,
      "outputs": [
        {
          "output_type": "execute_result",
          "data": {
            "text/plain": [
              "count    10644.000000\n",
              "mean      1961.452461\n",
              "std         14.378545\n",
              "min       1931.000000\n",
              "25%       1951.000000\n",
              "50%       1960.000000\n",
              "75%       1970.000000\n",
              "max       2010.000000\n",
              "Name: year_of_birth, dtype: float64"
            ]
          },
          "metadata": {
            "tags": []
          },
          "execution_count": 460
        }
      ]
    },
    {
      "cell_type": "markdown",
      "metadata": {
        "id": "LJO9R11456LV"
      },
      "source": [
        "7.Provide a list of the top 20 sorted values of the column - Eastern Cancer Oncology Group. Make assumptions as needed. Hint: You may have to normalize the dataset to do this."
      ]
    },
    {
      "cell_type": "markdown",
      "metadata": {
        "id": "h8jsK1XG8Yzp"
      },
      "source": [
        "Sorry I am confused about this question because I don't have meta data about the meaning of each column. There are 11 unique value in this column and I don't know what is the meaning by top 20? I may need more information about this question.\n",
        "\n",
        "I found some information about Performance Status Assessment by Using ECOG includes 5 values from 0 to 5 according to https://www.karger.com/Article/FullText/503095 which is used for assessing patient's oncology status. I can normalized it for further prediction or machine learning use.\n",
        "\n",
        "Hope I can talk to you and expore the data with your guidance and advice. Thank you very much."
      ]
    },
    {
      "cell_type": "code",
      "metadata": {
        "colab": {
          "base_uri": "https://localhost:8080/"
        },
        "id": "b8mO262459zA",
        "outputId": "0b621922-3555-4e5a-9a25-4a8704f03636"
      },
      "source": [
        "df1.eastern_cancer_oncology_group.isnull().sum()"
      ],
      "execution_count": 461,
      "outputs": [
        {
          "output_type": "execute_result",
          "data": {
            "text/plain": [
              "8455"
            ]
          },
          "metadata": {
            "tags": []
          },
          "execution_count": 461
        }
      ]
    },
    {
      "cell_type": "code",
      "metadata": {
        "colab": {
          "base_uri": "https://localhost:8080/"
        },
        "id": "5sls4rrA6FSO",
        "outputId": "9817f021-9149-4c2f-8d6d-edb9503c3978"
      },
      "source": [
        "df1.eastern_cancer_oncology_group.describe()"
      ],
      "execution_count": 462,
      "outputs": [
        {
          "output_type": "execute_result",
          "data": {
            "text/plain": [
              "count     2306\n",
              "unique      11\n",
              "top          0\n",
              "freq       778\n",
              "Name: eastern_cancer_oncology_group, dtype: object"
            ]
          },
          "metadata": {
            "tags": []
          },
          "execution_count": 462
        }
      ]
    },
    {
      "cell_type": "code",
      "metadata": {
        "colab": {
          "base_uri": "https://localhost:8080/"
        },
        "id": "9TKXLghz6qq-",
        "outputId": "a788e086-c647-4a5e-d8af-a9a8a4775f08"
      },
      "source": [
        "df1.eastern_cancer_oncology_group.value_counts()"
      ],
      "execution_count": 463,
      "outputs": [
        {
          "output_type": "execute_result",
          "data": {
            "text/plain": [
              "0                  778\n",
              "1                  642\n",
              "[Not Evaluated]    366\n",
              "[Unknown]          221\n",
              "2                  133\n",
              "0.0                 60\n",
              "1.0                 50\n",
              "3                   39\n",
              "4                    9\n",
              "2.0                  7\n",
              "4.0                  1\n",
              "Name: eastern_cancer_oncology_group, dtype: int64"
            ]
          },
          "metadata": {
            "tags": []
          },
          "execution_count": 463
        }
      ]
    },
    {
      "cell_type": "code",
      "metadata": {
        "id": "q5LVBq_6EgPM"
      },
      "source": [
        "df3 = df1.dropna(subset=['eastern_cancer_oncology_group'])"
      ],
      "execution_count": 464,
      "outputs": []
    },
    {
      "cell_type": "code",
      "metadata": {
        "id": "43f3njP-FO2B"
      },
      "source": [
        "df3 = df3.loc[(df3['eastern_cancer_oncology_group'] != '[Not Evaluated]') & (df3['eastern_cancer_oncology_group'] != '[Unknown]') ]"
      ],
      "execution_count": 465,
      "outputs": []
    },
    {
      "cell_type": "code",
      "metadata": {
        "id": "JXl_3GUOH5mn"
      },
      "source": [
        "df3['eastern_cancer_oncology_group'] = df3['eastern_cancer_oncology_group'].astype(float)"
      ],
      "execution_count": 466,
      "outputs": []
    },
    {
      "cell_type": "code",
      "metadata": {
        "colab": {
          "base_uri": "https://localhost:8080/"
        },
        "id": "F2akM-W3HvKR",
        "outputId": "cc47c8bb-14e0-4b12-ce55-0071d69a3132"
      },
      "source": [
        "df3.eastern_cancer_oncology_group.value_counts()"
      ],
      "execution_count": 467,
      "outputs": [
        {
          "output_type": "execute_result",
          "data": {
            "text/plain": [
              "0.0    838\n",
              "1.0    692\n",
              "2.0    140\n",
              "3.0     39\n",
              "4.0     10\n",
              "Name: eastern_cancer_oncology_group, dtype: int64"
            ]
          },
          "metadata": {
            "tags": []
          },
          "execution_count": 467
        }
      ]
    },
    {
      "cell_type": "code",
      "metadata": {
        "id": "9FA9mKQ68RxG"
      },
      "source": [
        "#min-max feature scaling\n",
        "  \n",
        "# apply normalization techniques by Column 1\n",
        "column = 'eastern_cancer_oncology_group'\n",
        "df3['eastern_cancer_oncology_group_scale'] = (df3[column] - df3[column].min()) / (df3[column].max() - df3[column].min())    \n",
        "  "
      ],
      "execution_count": 468,
      "outputs": []
    },
    {
      "cell_type": "code",
      "metadata": {
        "colab": {
          "base_uri": "https://localhost:8080/"
        },
        "id": "qAQ7HFB3IvQv",
        "outputId": "e2e4cb9e-64af-4728-e7a7-5a4d754fdbfe"
      },
      "source": [
        "df3['eastern_cancer_oncology_group_scale'].value_counts()"
      ],
      "execution_count": 469,
      "outputs": [
        {
          "output_type": "execute_result",
          "data": {
            "text/plain": [
              "0.00    838\n",
              "0.25    692\n",
              "0.50    140\n",
              "0.75     39\n",
              "1.00     10\n",
              "Name: eastern_cancer_oncology_group_scale, dtype: int64"
            ]
          },
          "metadata": {
            "tags": []
          },
          "execution_count": 469
        }
      ]
    },
    {
      "cell_type": "markdown",
      "metadata": {
        "id": "EE0c5nBrJcAH"
      },
      "source": [
        "8.Identify Metastatic Cancer patients, and group them by ICD codes"
      ]
    },
    {
      "cell_type": "code",
      "metadata": {
        "colab": {
          "base_uri": "https://localhost:8080/"
        },
        "id": "z2wrWPPuJ_7M",
        "outputId": "1d101122-231a-4570-93bc-21c0a87228c4"
      },
      "source": [
        "#find Metastatic columns\n",
        "Metastatic_cols = [col for col in mod_df.columns if 'metastatic' in col]\n",
        "print(Metastatic_cols)"
      ],
      "execution_count": 470,
      "outputs": [
        {
          "output_type": "stream",
          "text": [
            "['malignant_neoplasm_metastatic_involvement_site', 'other_metastatic_involvement_anatomic_site', 'metastatic_site_at_diagnosis_other', 'metastatic_neoplasm_confirmed']\n"
          ],
          "name": "stdout"
        }
      ]
    },
    {
      "cell_type": "code",
      "metadata": {
        "colab": {
          "base_uri": "https://localhost:8080/"
        },
        "id": "-KhFPUzD-xTF",
        "outputId": "c0d0b6be-f9df-49f4-e15c-8f7c6df893ad"
      },
      "source": [
        "df1[Metastatic_cols].isnull().sum()/len(df1)*100"
      ],
      "execution_count": 471,
      "outputs": [
        {
          "output_type": "execute_result",
          "data": {
            "text/plain": [
              "malignant_neoplasm_metastatic_involvement_site    97.927702\n",
              "other_metastatic_involvement_anatomic_site        95.260664\n",
              "metastatic_site_at_diagnosis_other                97.611746\n",
              "metastatic_neoplasm_confirmed                     98.290122\n",
              "dtype: float64"
            ]
          },
          "metadata": {
            "tags": []
          },
          "execution_count": 471
        }
      ]
    },
    {
      "cell_type": "code",
      "metadata": {
        "colab": {
          "base_uri": "https://localhost:8080/"
        },
        "id": "owMEBBpKKbMi",
        "outputId": "fafe5a4f-a5a8-4b86-d25a-a8ffdaac907f"
      },
      "source": [
        "#find ICD columns\n",
        "ICD_cols = [col for col in mod_df.columns if 'icd' in col]\n",
        "print(ICD_cols)"
      ],
      "execution_count": 472,
      "outputs": [
        {
          "output_type": "stream",
          "text": [
            "['icd_10', 'icd_o_3_histology', 'icd_o_3_site', 'cancer_diagnosis_cancer_type_icd9_text_name']\n"
          ],
          "name": "stdout"
        }
      ]
    },
    {
      "cell_type": "code",
      "metadata": {
        "colab": {
          "base_uri": "https://localhost:8080/"
        },
        "id": "vPZj6SulKh1z",
        "outputId": "41489671-72c2-418c-f6c7-d4c1f0c8befc"
      },
      "source": [
        "df1[ICD_cols].isnull().sum()/len(df1)*100"
      ],
      "execution_count": 473,
      "outputs": [
        {
          "output_type": "execute_result",
          "data": {
            "text/plain": [
              "icd_10                                          0.009293\n",
              "icd_o_3_histology                               0.009293\n",
              "icd_o_3_site                                    0.009293\n",
              "cancer_diagnosis_cancer_type_icd9_text_name    98.606078\n",
              "dtype: float64"
            ]
          },
          "metadata": {
            "tags": []
          },
          "execution_count": 473
        }
      ]
    },
    {
      "cell_type": "code",
      "metadata": {
        "colab": {
          "base_uri": "https://localhost:8080/"
        },
        "id": "cRw0ksTQSEmc",
        "outputId": "53fccfcb-d267-48c2-e09b-f82b00528407"
      },
      "source": [
        "df1.icd_10.unique()"
      ],
      "execution_count": 474,
      "outputs": [
        {
          "output_type": "execute_result",
          "data": {
            "text/plain": [
              "array(['C02.9', 'C15.4', 'C15.5', 'C16.0', 'C18.0', 'C18.2', 'C18.7',\n",
              "       'C19', 'C20', 'C34.1', 'C34.3', 'C34.12', 'C34.9', 'C48.0',\n",
              "       'C48.1', 'C48.2', 'C49.5', 'C50.9', 'C56.9', 'C61', 'C63.1',\n",
              "       'C64.9', 'C64.1', 'C67.9', 'C71.0', 'C71.2', 'C71.9', 'C74.9', nan,\n",
              "       'C00.9', 'C01', 'C03.9', 'C04.0', 'C04.9', 'C05.9', 'C06.0',\n",
              "       'C06.2', 'C06.9', 'C07', 'C08.0', 'C09.9', 'C10.3', 'C10.9',\n",
              "       'C13.9', 'C14.8', 'C15.9', 'C15.3', 'C16.1', 'C16.2', 'C16.3',\n",
              "       'C83.3', 'C16.9', 'C17.9', 'C18.3', 'C18.4', 'C18.5', 'C18.6',\n",
              "       'C18.9', 'C43.51', 'C22.0', 'C22.1', 'C25.0', 'C25.1', 'C25.2',\n",
              "       'C25.9', 'C44.31', 'C32.1', 'C32.9', 'C34.0', 'C34.2', 'C34.30',\n",
              "       'C34.8', 'C37', 'C38.1', 'C45.0', 'C44.2', 'C44.3', 'C44.4',\n",
              "       'C44.5', 'C44.50', 'C44.6', 'C44.601', 'C44.7', 'C44.701', 'C44.9',\n",
              "       'C49.0', 'C49.10', 'C49.1', 'C49.2', 'C49.20', 'C49.3', 'C49.4',\n",
              "       'C49.6', 'C49.9', 'C50.2', 'C51.9', 'C52', 'C53.0', 'C53.1',\n",
              "       'C53.9', 'C54.0', 'C54.1', 'C54.3', 'C54.9', 'C55', 'C62.9',\n",
              "       'C62.90', 'C67.0', 'C67.1', 'C67.2', 'C67.3', 'C67.4', 'C69.30',\n",
              "       'C69.80', 'C71.1', 'C71.3', 'C71.4', 'C71.8', 'C73', 'C74.0',\n",
              "       'C74.1', 'C76.1', 'C77.0', 'C77.3', 'C77.4', 'C77.5', 'C77.9',\n",
              "       'C02.1', 'C02.2', 'C03.0', 'C03.1', 'C05.0', 'C16.5', 'C24.0',\n",
              "       'C25.8', 'C34.10', 'C34.90', 'C38.0', 'C38.3', 'C38.4', 'C40.2',\n",
              "       'C40.3', 'C41.0', 'C41.1', 'C47.1', 'C49.8', 'C50.3', 'C50.4',\n",
              "       'C50.5', 'C50.8', 'C50.919', 'C54.2', 'C61.9', 'C67.5', 'C67.6',\n",
              "       'C69.40', 'C69.90', 'C70.1', 'C71.6', 'C71.7', 'C72.0', 'C72.9',\n",
              "       'C75.5', 'C76.0', 'C76.2', 'C76.3', 'C77.1', 'C77.2', 'C80.1'],\n",
              "      dtype=object)"
            ]
          },
          "metadata": {
            "tags": []
          },
          "execution_count": 474
        }
      ]
    },
    {
      "cell_type": "code",
      "metadata": {
        "colab": {
          "base_uri": "https://localhost:8080/"
        },
        "id": "Jm8oKl-DByjN",
        "outputId": "d6d96575-bf62-489c-d562-61c72ac55ed7"
      },
      "source": [
        "#Metastatic cancer patients are patients who have  have a clinical OR pathologic M value which has ‘M1’ in it.\n",
        "clinical_cols = [col for col in mod_df.columns if 'clinical' in col]\n",
        "print(clinical_cols)\n"
      ],
      "execution_count": 475,
      "outputs": [
        {
          "output_type": "stream",
          "text": [
            "['clinical_M', 'clinical_stage', 'clinical_T', 'clinical_N']\n"
          ],
          "name": "stdout"
        }
      ]
    },
    {
      "cell_type": "code",
      "metadata": {
        "colab": {
          "base_uri": "https://localhost:8080/"
        },
        "id": "5am-kdb2CR6S",
        "outputId": "78b0ec6f-99cc-4f6f-df15-546fdea39f95"
      },
      "source": [
        "df1['clinical_M'].isnull().sum()/len(df1)*100"
      ],
      "execution_count": 476,
      "outputs": [
        {
          "output_type": "execute_result",
          "data": {
            "text/plain": [
              "20.825202118762196"
            ]
          },
          "metadata": {
            "tags": []
          },
          "execution_count": 476
        }
      ]
    },
    {
      "cell_type": "code",
      "metadata": {
        "colab": {
          "base_uri": "https://localhost:8080/"
        },
        "id": "ex3nRHD6FobY",
        "outputId": "00a666ce-8947-4d24-c893-a298e7b77c2f"
      },
      "source": [
        "df1['clinical_M'].unique()"
      ],
      "execution_count": 477,
      "outputs": [
        {
          "output_type": "execute_result",
          "data": {
            "text/plain": [
              "array(['M0', 'M1', nan, '[Not Applicable]', 'M1b', 'MX', 'M1a', 'M1c'],\n",
              "      dtype=object)"
            ]
          },
          "metadata": {
            "tags": []
          },
          "execution_count": 477
        }
      ]
    },
    {
      "cell_type": "code",
      "metadata": {
        "colab": {
          "base_uri": "https://localhost:8080/"
        },
        "id": "dyzt4I7ZCJt8",
        "outputId": "2875af8e-9416-45be-e1a9-ed12fd6c7983"
      },
      "source": [
        "pathologic_cols = [col for col in mod_df.columns if 'pathologic' in col]\n",
        "print(pathologic_cols)"
      ],
      "execution_count": 478,
      "outputs": [
        {
          "output_type": "stream",
          "text": [
            "['days_to_initial_pathologic_diagnosis', 'age_at_initial_pathologic_diagnosis', 'year_of_initial_pathologic_diagnosis', 'pathologic_T', 'pathologic_M', 'pathologic_N', 'pathologic_stage', 'initial_pathologic_diagnosis_method', 'presence_of_pathological_nodal_extracapsular_spread', 'cervical_neoplasm_pathologic_margin_involved_text', 'pathologic_tumor_width', 'pathologic_tumor_length', 'pathologic_tumor_depth']\n"
          ],
          "name": "stdout"
        }
      ]
    },
    {
      "cell_type": "code",
      "metadata": {
        "colab": {
          "base_uri": "https://localhost:8080/"
        },
        "id": "nlUzZz3PCXbQ",
        "outputId": "245a7764-a469-49d2-943e-c6b74f22412a"
      },
      "source": [
        "df1['pathologic_M'].isnull().sum()/len(df1)*100"
      ],
      "execution_count": 479,
      "outputs": [
        {
          "output_type": "execute_result",
          "data": {
            "text/plain": [
              "18.344020072483968"
            ]
          },
          "metadata": {
            "tags": []
          },
          "execution_count": 479
        }
      ]
    },
    {
      "cell_type": "code",
      "metadata": {
        "colab": {
          "base_uri": "https://localhost:8080/"
        },
        "id": "I_pAp69dFI6w",
        "outputId": "6d345522-b794-4582-f4d0-0f97180540de"
      },
      "source": [
        "df1['pathologic_M'].unique()"
      ],
      "execution_count": 480,
      "outputs": [
        {
          "output_type": "execute_result",
          "data": {
            "text/plain": [
              "array(['M0', 'MX', 'M1', nan, '[Not Applicable]', 'M1b', 'M1a', 'M1c',\n",
              "       'cM0 (i+)', '[Unknown]'], dtype=object)"
            ]
          },
          "metadata": {
            "tags": []
          },
          "execution_count": 480
        }
      ]
    },
    {
      "cell_type": "code",
      "metadata": {
        "id": "n_l5zzQ4GetE"
      },
      "source": [
        "df5 = df1.loc[df1['pathologic_M'].str.contains(\"M1\") | df1['clinical_M'].str.contains(\"M1\")]"
      ],
      "execution_count": 481,
      "outputs": []
    },
    {
      "cell_type": "code",
      "metadata": {
        "colab": {
          "base_uri": "https://localhost:8080/",
          "height": 419
        },
        "id": "T1h5oOVTG8_c",
        "outputId": "c7f149b3-dd9f-43d6-c328-55aa378588cb"
      },
      "source": [
        "df5[['clinical_M','pathologic_M']]"
      ],
      "execution_count": 482,
      "outputs": [
        {
          "output_type": "execute_result",
          "data": {
            "text/html": [
              "<div>\n",
              "<style scoped>\n",
              "    .dataframe tbody tr th:only-of-type {\n",
              "        vertical-align: middle;\n",
              "    }\n",
              "\n",
              "    .dataframe tbody tr th {\n",
              "        vertical-align: top;\n",
              "    }\n",
              "\n",
              "    .dataframe thead th {\n",
              "        text-align: right;\n",
              "    }\n",
              "</style>\n",
              "<table border=\"1\" class=\"dataframe\">\n",
              "  <thead>\n",
              "    <tr style=\"text-align: right;\">\n",
              "      <th></th>\n",
              "      <th>clinical_M</th>\n",
              "      <th>pathologic_M</th>\n",
              "    </tr>\n",
              "  </thead>\n",
              "  <tbody>\n",
              "    <tr>\n",
              "      <th>1</th>\n",
              "      <td>M1</td>\n",
              "      <td>M0</td>\n",
              "    </tr>\n",
              "    <tr>\n",
              "      <th>17</th>\n",
              "      <td>[Not Applicable]</td>\n",
              "      <td>M1</td>\n",
              "    </tr>\n",
              "    <tr>\n",
              "      <th>626</th>\n",
              "      <td>M1b</td>\n",
              "      <td>[Not Applicable]</td>\n",
              "    </tr>\n",
              "    <tr>\n",
              "      <th>628</th>\n",
              "      <td>NaN</td>\n",
              "      <td>M1</td>\n",
              "    </tr>\n",
              "    <tr>\n",
              "      <th>634</th>\n",
              "      <td>NaN</td>\n",
              "      <td>M1</td>\n",
              "    </tr>\n",
              "    <tr>\n",
              "      <th>...</th>\n",
              "      <td>...</td>\n",
              "      <td>...</td>\n",
              "    </tr>\n",
              "    <tr>\n",
              "      <th>10413</th>\n",
              "      <td>M1</td>\n",
              "      <td>[Not Applicable]</td>\n",
              "    </tr>\n",
              "    <tr>\n",
              "      <th>10681</th>\n",
              "      <td>[Not Applicable]</td>\n",
              "      <td>M1c</td>\n",
              "    </tr>\n",
              "    <tr>\n",
              "      <th>10690</th>\n",
              "      <td>[Not Applicable]</td>\n",
              "      <td>M1c</td>\n",
              "    </tr>\n",
              "    <tr>\n",
              "      <th>10711</th>\n",
              "      <td>[Not Applicable]</td>\n",
              "      <td>M1c</td>\n",
              "    </tr>\n",
              "    <tr>\n",
              "      <th>10745</th>\n",
              "      <td>[Not Applicable]</td>\n",
              "      <td>M1b</td>\n",
              "    </tr>\n",
              "  </tbody>\n",
              "</table>\n",
              "<p>372 rows × 2 columns</p>\n",
              "</div>"
            ],
            "text/plain": [
              "             clinical_M      pathologic_M\n",
              "1                    M1                M0\n",
              "17     [Not Applicable]                M1\n",
              "626                 M1b  [Not Applicable]\n",
              "628                 NaN                M1\n",
              "634                 NaN                M1\n",
              "...                 ...               ...\n",
              "10413                M1  [Not Applicable]\n",
              "10681  [Not Applicable]               M1c\n",
              "10690  [Not Applicable]               M1c\n",
              "10711  [Not Applicable]               M1c\n",
              "10745  [Not Applicable]               M1b\n",
              "\n",
              "[372 rows x 2 columns]"
            ]
          },
          "metadata": {
            "tags": []
          },
          "execution_count": 482
        }
      ]
    },
    {
      "cell_type": "code",
      "metadata": {
        "id": "gQzyr5NL_fQa"
      },
      "source": [
        "#Metastatic cancer patients are patients who have stage 4 or above \n",
        "#I assume it is the ECOG status 4\n",
        "df4 = df3.loc[df3['eastern_cancer_oncology_group']>=4]"
      ],
      "execution_count": 483,
      "outputs": []
    },
    {
      "cell_type": "code",
      "metadata": {
        "colab": {
          "base_uri": "https://localhost:8080/"
        },
        "id": "7EXdCcQoEP9T",
        "outputId": "285df908-7b2c-4a3e-c3e5-74e4f0950015"
      },
      "source": [
        "df4.eastern_cancer_oncology_group.value_counts"
      ],
      "execution_count": 484,
      "outputs": [
        {
          "output_type": "execute_result",
          "data": {
            "text/plain": [
              "<bound method IndexOpsMixin.value_counts of 725     4.0\n",
              "782     4.0\n",
              "1922    4.0\n",
              "1943    4.0\n",
              "3384    4.0\n",
              "3385    4.0\n",
              "3845    4.0\n",
              "5394    4.0\n",
              "7632    4.0\n",
              "9911    4.0\n",
              "Name: eastern_cancer_oncology_group, dtype: float64>"
            ]
          },
          "metadata": {
            "tags": []
          },
          "execution_count": 484
        }
      ]
    },
    {
      "cell_type": "code",
      "metadata": {
        "id": "55zyEPq7I_Eb"
      },
      "source": [
        "df6 = pd.concat([df4,df5]).drop_duplicates().reset_index(drop=True)"
      ],
      "execution_count": 485,
      "outputs": []
    },
    {
      "cell_type": "code",
      "metadata": {
        "colab": {
          "base_uri": "https://localhost:8080/",
          "height": 419
        },
        "id": "h4NyYaEVJjht",
        "outputId": "df721f03-89be-4bf3-8b62-ba4678882828"
      },
      "source": [
        "df6[['eastern_cancer_oncology_group','clinical_M','pathologic_M']]"
      ],
      "execution_count": 486,
      "outputs": [
        {
          "output_type": "execute_result",
          "data": {
            "text/html": [
              "<div>\n",
              "<style scoped>\n",
              "    .dataframe tbody tr th:only-of-type {\n",
              "        vertical-align: middle;\n",
              "    }\n",
              "\n",
              "    .dataframe tbody tr th {\n",
              "        vertical-align: top;\n",
              "    }\n",
              "\n",
              "    .dataframe thead th {\n",
              "        text-align: right;\n",
              "    }\n",
              "</style>\n",
              "<table border=\"1\" class=\"dataframe\">\n",
              "  <thead>\n",
              "    <tr style=\"text-align: right;\">\n",
              "      <th></th>\n",
              "      <th>eastern_cancer_oncology_group</th>\n",
              "      <th>clinical_M</th>\n",
              "      <th>pathologic_M</th>\n",
              "    </tr>\n",
              "  </thead>\n",
              "  <tbody>\n",
              "    <tr>\n",
              "      <th>0</th>\n",
              "      <td>4</td>\n",
              "      <td>NaN</td>\n",
              "      <td>NaN</td>\n",
              "    </tr>\n",
              "    <tr>\n",
              "      <th>1</th>\n",
              "      <td>4</td>\n",
              "      <td>NaN</td>\n",
              "      <td>NaN</td>\n",
              "    </tr>\n",
              "    <tr>\n",
              "      <th>2</th>\n",
              "      <td>4</td>\n",
              "      <td>[Not Applicable]</td>\n",
              "      <td>M0</td>\n",
              "    </tr>\n",
              "    <tr>\n",
              "      <th>3</th>\n",
              "      <td>4</td>\n",
              "      <td>[Not Applicable]</td>\n",
              "      <td>M0</td>\n",
              "    </tr>\n",
              "    <tr>\n",
              "      <th>4</th>\n",
              "      <td>4</td>\n",
              "      <td>[Not Applicable]</td>\n",
              "      <td>[Not Applicable]</td>\n",
              "    </tr>\n",
              "    <tr>\n",
              "      <th>...</th>\n",
              "      <td>...</td>\n",
              "      <td>...</td>\n",
              "      <td>...</td>\n",
              "    </tr>\n",
              "    <tr>\n",
              "      <th>377</th>\n",
              "      <td>NaN</td>\n",
              "      <td>M1</td>\n",
              "      <td>[Not Applicable]</td>\n",
              "    </tr>\n",
              "    <tr>\n",
              "      <th>378</th>\n",
              "      <td>NaN</td>\n",
              "      <td>[Not Applicable]</td>\n",
              "      <td>M1c</td>\n",
              "    </tr>\n",
              "    <tr>\n",
              "      <th>379</th>\n",
              "      <td>NaN</td>\n",
              "      <td>[Not Applicable]</td>\n",
              "      <td>M1c</td>\n",
              "    </tr>\n",
              "    <tr>\n",
              "      <th>380</th>\n",
              "      <td>NaN</td>\n",
              "      <td>[Not Applicable]</td>\n",
              "      <td>M1c</td>\n",
              "    </tr>\n",
              "    <tr>\n",
              "      <th>381</th>\n",
              "      <td>NaN</td>\n",
              "      <td>[Not Applicable]</td>\n",
              "      <td>M1b</td>\n",
              "    </tr>\n",
              "  </tbody>\n",
              "</table>\n",
              "<p>382 rows × 3 columns</p>\n",
              "</div>"
            ],
            "text/plain": [
              "    eastern_cancer_oncology_group        clinical_M      pathologic_M\n",
              "0                               4               NaN               NaN\n",
              "1                               4               NaN               NaN\n",
              "2                               4  [Not Applicable]                M0\n",
              "3                               4  [Not Applicable]                M0\n",
              "4                               4  [Not Applicable]  [Not Applicable]\n",
              "..                            ...               ...               ...\n",
              "377                           NaN                M1  [Not Applicable]\n",
              "378                           NaN  [Not Applicable]               M1c\n",
              "379                           NaN  [Not Applicable]               M1c\n",
              "380                           NaN  [Not Applicable]               M1c\n",
              "381                           NaN  [Not Applicable]               M1b\n",
              "\n",
              "[382 rows x 3 columns]"
            ]
          },
          "metadata": {
            "tags": []
          },
          "execution_count": 486
        }
      ]
    },
    {
      "cell_type": "code",
      "metadata": {
        "id": "NJWGDFjnR5pQ"
      },
      "source": [
        "#group them by ICD codes"
      ],
      "execution_count": 487,
      "outputs": []
    },
    {
      "cell_type": "code",
      "metadata": {
        "id": "TuTqU1KOR65N"
      },
      "source": [
        "df6.dropna(subset=['icd_10'], inplace= True)"
      ],
      "execution_count": 488,
      "outputs": []
    },
    {
      "cell_type": "code",
      "metadata": {
        "id": "kXkYaSLGS5BX"
      },
      "source": [
        "grouped_df = df6.groupby(\"icd_10\")\n",
        "\n",
        "grouped_lists = grouped_df[\"patient_id\"].apply(list)\n",
        "\n",
        "grouped_lists = grouped_lists.reset_index()"
      ],
      "execution_count": 489,
      "outputs": []
    },
    {
      "cell_type": "code",
      "metadata": {
        "colab": {
          "base_uri": "https://localhost:8080/"
        },
        "id": "zFx6BOg9TaIj",
        "outputId": "8843a169-8c18-4500-d972-5d5c492640f4"
      },
      "source": [
        "print(grouped_lists)"
      ],
      "execution_count": 490,
      "outputs": [
        {
          "output_type": "stream",
          "text": [
            "   icd_10                                         patient_id\n",
            "0   C02.9                                             [A6SH]\n",
            "1   C04.9                                             [A92N]\n",
            "2   C15.3                                             [A51D]\n",
            "3   C15.4                                 [A8EU, AA7B, A8EX]\n",
            "4   C15.5               [A5U5, A4OT, A8NF, A8W5, A8NH, A9GO]\n",
            "..    ...                                                ...\n",
            "56    C73  [A4ET, A0Y3, A3PA, A0Z2, A4UR, A3GY, A3MY, A3M...\n",
            "57  C74.0  [A5PI, A5OH, A5LB, A5JG, A5LI, A5JM, A5LJ, A5J...\n",
            "58  C77.3                                       [A8ZT, AAP0]\n",
            "59  C77.4                                       [A5GS, A51N]\n",
            "60  C77.9                                       [A1ZH, A1Q8]\n",
            "\n",
            "[61 rows x 2 columns]\n"
          ],
          "name": "stdout"
        }
      ]
    },
    {
      "cell_type": "markdown",
      "metadata": {
        "id": "wulD2Hc8Q-Ae"
      },
      "source": [
        "9. Provide a survival analysis of all Breast Cancer patients."
      ]
    },
    {
      "cell_type": "code",
      "metadata": {
        "id": "xFYrIxOsRDdh"
      },
      "source": [
        "#!pip install survival"
      ],
      "execution_count": 491,
      "outputs": []
    },
    {
      "cell_type": "code",
      "metadata": {
        "id": "hrd0JZ1Scsb8"
      },
      "source": [
        "#pip install rpy2\n",
        "# since library survminer is not avaliable in python, I can use rpy2 to run R library in python\n",
        "# Or I can use scikit-survival, KaplanMeierFitter to do the survival analysis, but its visulization is not as good as R package "
      ],
      "execution_count": 492,
      "outputs": []
    },
    {
      "cell_type": "code",
      "metadata": {
        "id": "Fmckf1oQgcTW"
      },
      "source": [
        "#According to the informationonSurvivalAnalysis>[http://www.sthda.com/english/wiki/survival- analysis-basics]\n",
        "#I try to select the sample columns that can be analysis according to the example based on the link provided\n",
        " "
      ],
      "execution_count": 493,
      "outputs": []
    },
    {
      "cell_type": "code",
      "metadata": {
        "colab": {
          "base_uri": "https://localhost:8080/"
        },
        "id": "cUCpZ4egfdPP",
        "outputId": "d54b9fee-e4f9-4134-d47f-e84801ba5641"
      },
      "source": [
        "#find karno columns\n",
        "karno_cols = [col for col in df1.columns if 'karno' in col]\n",
        "print(karno_cols)"
      ],
      "execution_count": 494,
      "outputs": [
        {
          "output_type": "stream",
          "text": [
            "['karnofsky_performance_score']\n"
          ],
          "name": "stdout"
        }
      ]
    },
    {
      "cell_type": "code",
      "metadata": {
        "colab": {
          "base_uri": "https://localhost:8080/"
        },
        "id": "U9rEt2k1wNiH",
        "outputId": "e69e5531-11b3-43dd-b830-c5f74409d2f5"
      },
      "source": [
        "#find status columns\n",
        "status_cols = [col for col in df1.columns if 'status' in col]\n",
        "print(status_cols)\n",
        "# I choose vital_status"
      ],
      "execution_count": 495,
      "outputs": [
        {
          "output_type": "stream",
          "text": [
            "['vital_status', 'person_neoplasm_cancer_status', 'patient_progression_status', 'performance_status_scale_timing', 'menopause_status', 'margin_status', 'hiv_status', 'breast_carcinoma_progesterone_receptor_status', 'metastatic_breast_carcinoma_progesterone_receptor_status', 'metastatic_breast_carcinoma_lab_proc_her2_neu_immunohistochemistry_receptor_status', 'breast_cancer_surgery_margin_status', 'breast_carcinoma_estrogen_receptor_status', 'lab_proc_her2_neu_immunohistochemistry_receptor_status', 'metastatic_breast_carcinoma_estrogen_receptor_status', 'post_surgical_procedure_assessment_thyroid_gland_carcinoma_status', 'egfr_amplication_status', 'hpv_status_by_ish_testing', 'hpv_status_by_p16_testing', 'mental_status_changes', 'days_to_initial_score_performance_status_scale', 'extrathyroid_carcinoma_present_extension_status', 'bladder_carcinoma_extracapsular_extension_status', 'days_to_performance_status_assessment', 'female_breast_feeding_or_pregnancy_status_indicator', 'performance_status_assessment_timepoint_category_other_text', 'ss18_ssx_fusion_status', 'planned_surgery_status', 'ebv_status_malignant_cells_method', 'ebv_antibody_status', 'epstein_barr_viral_status', 'hiv_positive_status']\n"
          ],
          "name": "stdout"
        }
      ]
    },
    {
      "cell_type": "code",
      "metadata": {
        "colab": {
          "base_uri": "https://localhost:8080/"
        },
        "id": "wqa-UzgOw25z",
        "outputId": "cdecfe08-07af-48d7-ab2d-efd957f220b6"
      },
      "source": [
        "#find time columns\n",
        "time_cols = [col for col in df1.columns if 'day' in col]\n",
        "print(time_cols)"
      ],
      "execution_count": 496,
      "outputs": [
        {
          "output_type": "stream",
          "text": [
            "['days_to_birth', 'days_to_death', 'days_to_last_followup', 'days_to_initial_pathologic_diagnosis', 'days_to_patient_progression_free', 'days_to_first_response', 'days_to_first_partial_response', 'days_to_first_complete_response', 'days_to_tumor_progression', 'days_to_sample_procurement', 'days_to_hiv_diagnosis', 'days_to_new_tumor_event_after_initial_treatment', 'days_to_diagnostic_mri_performed', 'days_to_diagnostic_computed_tomography_performed', 'amount_of_alcohol_consumption_per_day', 'days_to_initial_score_performance_status_scale', 'days_to_bone_scan_performed', 'days_to_first_biochemical_recurrence', 'days_to_psa', 'interferon_90_day_prior_excision_admin_indicator', 'days_to_submitted_specimen_dx', 'mibc_90day_post_resection_bcg', 'days_to_definitive_surgical_procedure_performed', 'days_to_laboratory_procedure_tumor_marker_squamous_cell_carcinoma_antigen_result', 'days_to_performance_status_assessment', 'days_to_fdg_or_ct_pet_performed', 'days_to_well_differentiated_liposarcoma_resection', 'days_to_well_differentiated_liposarcoma_primary_dx', 'days_to_pancreatitis_onset', 'days_to_diabetes_onset', 'amt_alcohol_consumption_per_day', 'days_to_pre_orchi_serum_test', 'days_to_post_orchi_serum_test', 'days_to_bilateral_tumor_dx', 'pleurodesis_performed_90_days', 'days_to_last_known_alive']\n"
          ],
          "name": "stdout"
        }
      ]
    },
    {
      "cell_type": "code",
      "metadata": {
        "id": "wfTWkbVK0ow7"
      },
      "source": [
        "# To do the analysis based on the example provided \n",
        "# We need to get time: Survival time in days\n",
        "#The time from ‘response to treatment’ (complete remission) to the occurrence of the event of interest is commonly called survival time (or time to event)."
      ],
      "execution_count": 497,
      "outputs": []
    },
    {
      "cell_type": "code",
      "metadata": {
        "colab": {
          "base_uri": "https://localhost:8080/"
        },
        "id": "kRq3CGG94myC",
        "outputId": "60483ef6-e18b-42ec-9cd9-411d7ea83a6e"
      },
      "source": [
        "df1.days_to_first_complete_response.isnull().sum()"
      ],
      "execution_count": 498,
      "outputs": [
        {
          "output_type": "execute_result",
          "data": {
            "text/plain": [
              "10761"
            ]
          },
          "metadata": {
            "tags": []
          },
          "execution_count": 498
        }
      ]
    },
    {
      "cell_type": "code",
      "metadata": {
        "colab": {
          "base_uri": "https://localhost:8080/"
        },
        "id": "v4UA6_Qv4wgq",
        "outputId": "699fbca9-3492-4e53-ebf6-45b7180f9e4c"
      },
      "source": [
        "df1.days_to_initial_pathologic_diagnosis.isnull().sum()"
      ],
      "execution_count": 499,
      "outputs": [
        {
          "output_type": "execute_result",
          "data": {
            "text/plain": [
              "123"
            ]
          },
          "metadata": {
            "tags": []
          },
          "execution_count": 499
        }
      ]
    },
    {
      "cell_type": "code",
      "metadata": {
        "colab": {
          "base_uri": "https://localhost:8080/"
        },
        "id": "xRWG-9LQ5EB0",
        "outputId": "f6d061d7-749e-4695-9522-b4a1d924fe3b"
      },
      "source": [
        "df1.days_to_initial_pathologic_diagnosis.describe()"
      ],
      "execution_count": 500,
      "outputs": [
        {
          "output_type": "execute_result",
          "data": {
            "text/plain": [
              "count    10638.0\n",
              "mean         0.0\n",
              "std          0.0\n",
              "min          0.0\n",
              "25%          0.0\n",
              "50%          0.0\n",
              "75%          0.0\n",
              "max          0.0\n",
              "Name: days_to_initial_pathologic_diagnosis, dtype: float64"
            ]
          },
          "metadata": {
            "tags": []
          },
          "execution_count": 500
        }
      ]
    },
    {
      "cell_type": "code",
      "metadata": {
        "colab": {
          "base_uri": "https://localhost:8080/"
        },
        "id": "4rPCeVJZ5dW8",
        "outputId": "d7579069-57b5-4235-ca9e-fc90e0c9402f"
      },
      "source": [
        "df1.days_to_last_known_alive.isnull().sum()"
      ],
      "execution_count": 501,
      "outputs": [
        {
          "output_type": "execute_result",
          "data": {
            "text/plain": [
              "10750"
            ]
          },
          "metadata": {
            "tags": []
          },
          "execution_count": 501
        }
      ]
    },
    {
      "cell_type": "code",
      "metadata": {
        "colab": {
          "base_uri": "https://localhost:8080/"
        },
        "id": "mSx5ymTy5iWP",
        "outputId": "b65e0632-d9ee-471a-92eb-26c5f2eb9116"
      },
      "source": [
        "df1.days_to_death.isnull().sum()\n",
        "# Should I used days to death and current date to calculate the survival time?"
      ],
      "execution_count": 502,
      "outputs": [
        {
          "output_type": "execute_result",
          "data": {
            "text/plain": [
              "12"
            ]
          },
          "metadata": {
            "tags": []
          },
          "execution_count": 502
        }
      ]
    },
    {
      "cell_type": "markdown",
      "metadata": {
        "id": "FlrbUaxKtCj0"
      },
      "source": [
        "I think this data is very interesting, it has 375 colums. I feel understanding  the meaning of colums and how to use it correctly is very interesting and challenging. If I have a chance to talk to you and get any more information or details, guidance or advice, I will definitely work it out."
      ]
    }
  ]
}